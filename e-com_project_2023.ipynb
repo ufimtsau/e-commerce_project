{
 "cells": [
  {
   "cell_type": "markdown",
   "metadata": {},
   "source": [
    "# Анализ продажи в e-commerce"
   ]
  },
  {
   "cell_type": "markdown",
   "metadata": {},
   "source": [
    "## Импортируемые библиотеки"
   ]
  },
  {
   "cell_type": "code",
   "execution_count": 1,
   "metadata": {
    "tags": []
   },
   "outputs": [],
   "source": [
    "import pandas as pd\n",
    "from datetime import timedelta\n",
    "\n",
    "import matplotlib.pyplot as plt\n",
    "import seaborn as sns\n",
    "import plotly.express as px\n",
    "\n",
    "from calendar import monthrange\n",
    "\n",
    "import warnings\n",
    "warnings.filterwarnings('ignore')\n",
    "\n",
    "%matplotlib inline"
   ]
  },
  {
   "cell_type": "markdown",
   "metadata": {},
   "source": [
    "## Настройки для графиков "
   ]
  },
  {
   "cell_type": "code",
   "execution_count": 85,
   "metadata": {
    "tags": []
   },
   "outputs": [],
   "source": [
    "sns.set(\n",
    "    font_scale =1.3,\n",
    "    style      =\"whitegrid\",\n",
    "    rc         ={'figure.figsize':(18,8)}\n",
    ")"
   ]
  },
  {
   "cell_type": "markdown",
   "metadata": {},
   "source": [
    "# Разведывательный анализ данных, описание структуры данных"
   ]
  },
  {
   "cell_type": "markdown",
   "metadata": {},
   "source": [
    "# Таблица 1. \n",
    "**olist_customers_datase.csv — таблица с уникальными идентификаторами пользователей**\n",
    "- customer_id — позаказный идентификатор пользователя\n",
    "- customer_unique_id —  уникальный идентификатор пользователя  (аналог номера паспорта)\n",
    "- customer_zip_code_prefix —  почтовый индекс пользователя\n",
    "- customer_city —  город доставки пользователя\n",
    "- customer_state —  штат доставки пользователя"
   ]
  },
  {
   "cell_type": "code",
   "execution_count": 5,
   "metadata": {
    "scrolled": true,
    "tags": []
   },
   "outputs": [
    {
     "data": {
      "text/html": [
       "<div>\n",
       "<style scoped>\n",
       "    .dataframe tbody tr th:only-of-type {\n",
       "        vertical-align: middle;\n",
       "    }\n",
       "\n",
       "    .dataframe tbody tr th {\n",
       "        vertical-align: top;\n",
       "    }\n",
       "\n",
       "    .dataframe thead th {\n",
       "        text-align: right;\n",
       "    }\n",
       "</style>\n",
       "<table border=\"1\" class=\"dataframe\">\n",
       "  <thead>\n",
       "    <tr style=\"text-align: right;\">\n",
       "      <th></th>\n",
       "      <th>customer_id</th>\n",
       "      <th>customer_unique_id</th>\n",
       "      <th>customer_zip_code_prefix</th>\n",
       "      <th>customer_city</th>\n",
       "      <th>customer_state</th>\n",
       "    </tr>\n",
       "  </thead>\n",
       "  <tbody>\n",
       "    <tr>\n",
       "      <th>0</th>\n",
       "      <td>06b8999e2fba1a1fbc88172c00ba8bc7</td>\n",
       "      <td>861eff4711a542e4b93843c6dd7febb0</td>\n",
       "      <td>14409</td>\n",
       "      <td>franca</td>\n",
       "      <td>SP</td>\n",
       "    </tr>\n",
       "    <tr>\n",
       "      <th>1</th>\n",
       "      <td>18955e83d337fd6b2def6b18a428ac77</td>\n",
       "      <td>290c77bc529b7ac935b93aa66c333dc3</td>\n",
       "      <td>9790</td>\n",
       "      <td>sao bernardo do campo</td>\n",
       "      <td>SP</td>\n",
       "    </tr>\n",
       "    <tr>\n",
       "      <th>2</th>\n",
       "      <td>4e7b3e00288586ebd08712fdd0374a03</td>\n",
       "      <td>060e732b5b29e8181a18229c7b0b2b5e</td>\n",
       "      <td>1151</td>\n",
       "      <td>sao paulo</td>\n",
       "      <td>SP</td>\n",
       "    </tr>\n",
       "    <tr>\n",
       "      <th>3</th>\n",
       "      <td>b2b6027bc5c5109e529d4dc6358b12c3</td>\n",
       "      <td>259dac757896d24d7702b9acbbff3f3c</td>\n",
       "      <td>8775</td>\n",
       "      <td>mogi das cruzes</td>\n",
       "      <td>SP</td>\n",
       "    </tr>\n",
       "    <tr>\n",
       "      <th>4</th>\n",
       "      <td>4f2d8ab171c80ec8364f7c12e35b23ad</td>\n",
       "      <td>345ecd01c38d18a9036ed96c73b8d066</td>\n",
       "      <td>13056</td>\n",
       "      <td>campinas</td>\n",
       "      <td>SP</td>\n",
       "    </tr>\n",
       "  </tbody>\n",
       "</table>\n",
       "</div>"
      ],
      "text/plain": [
       "                        customer_id                customer_unique_id  \\\n",
       "0  06b8999e2fba1a1fbc88172c00ba8bc7  861eff4711a542e4b93843c6dd7febb0   \n",
       "1  18955e83d337fd6b2def6b18a428ac77  290c77bc529b7ac935b93aa66c333dc3   \n",
       "2  4e7b3e00288586ebd08712fdd0374a03  060e732b5b29e8181a18229c7b0b2b5e   \n",
       "3  b2b6027bc5c5109e529d4dc6358b12c3  259dac757896d24d7702b9acbbff3f3c   \n",
       "4  4f2d8ab171c80ec8364f7c12e35b23ad  345ecd01c38d18a9036ed96c73b8d066   \n",
       "\n",
       "   customer_zip_code_prefix          customer_city customer_state  \n",
       "0                     14409                 franca             SP  \n",
       "1                      9790  sao bernardo do campo             SP  \n",
       "2                      1151              sao paulo             SP  \n",
       "3                      8775        mogi das cruzes             SP  \n",
       "4                     13056               campinas             SP  "
      ]
     },
     "execution_count": 5,
     "metadata": {},
     "output_type": "execute_result"
    }
   ],
   "source": [
    "customers = pd.read_csv('https://getfile.dokpub.com/yandex/get/https://disk.yandex.ru/d/QXrVDUoQvFhIcg')\n",
    "customers.head()"
   ]
  },
  {
   "cell_type": "markdown",
   "metadata": {},
   "source": [
    "**Смотрим тип данных в таблице, наличие пропущенных значений, а также размеры дата фрейма:**"
   ]
  },
  {
   "cell_type": "code",
   "execution_count": 6,
   "metadata": {
    "tags": []
   },
   "outputs": [
    {
     "name": "stdout",
     "output_type": "stream",
     "text": [
      "<class 'pandas.core.frame.DataFrame'>\n",
      "RangeIndex: 99441 entries, 0 to 99440\n",
      "Data columns (total 5 columns):\n",
      " #   Column                    Non-Null Count  Dtype \n",
      "---  ------                    --------------  ----- \n",
      " 0   customer_id               99441 non-null  object\n",
      " 1   customer_unique_id        99441 non-null  object\n",
      " 2   customer_zip_code_prefix  99441 non-null  int64 \n",
      " 3   customer_city             99441 non-null  object\n",
      " 4   customer_state            99441 non-null  object\n",
      "dtypes: int64(1), object(4)\n",
      "memory usage: 3.8+ MB\n"
     ]
    }
   ],
   "source": [
    "customers.info()"
   ]
  },
  {
   "cell_type": "markdown",
   "metadata": {},
   "source": [
    "**Проверка на дубликаты:**"
   ]
  },
  {
   "cell_type": "code",
   "execution_count": 7,
   "metadata": {
    "tags": []
   },
   "outputs": [
    {
     "data": {
      "text/html": [
       "<div>\n",
       "<style scoped>\n",
       "    .dataframe tbody tr th:only-of-type {\n",
       "        vertical-align: middle;\n",
       "    }\n",
       "\n",
       "    .dataframe tbody tr th {\n",
       "        vertical-align: top;\n",
       "    }\n",
       "\n",
       "    .dataframe thead th {\n",
       "        text-align: right;\n",
       "    }\n",
       "</style>\n",
       "<table border=\"1\" class=\"dataframe\">\n",
       "  <thead>\n",
       "    <tr style=\"text-align: right;\">\n",
       "      <th></th>\n",
       "      <th>customer_id</th>\n",
       "      <th>customer_unique_id</th>\n",
       "      <th>customer_zip_code_prefix</th>\n",
       "      <th>customer_city</th>\n",
       "      <th>customer_state</th>\n",
       "    </tr>\n",
       "  </thead>\n",
       "  <tbody>\n",
       "  </tbody>\n",
       "</table>\n",
       "</div>"
      ],
      "text/plain": [
       "Empty DataFrame\n",
       "Columns: [customer_id, customer_unique_id, customer_zip_code_prefix, customer_city, customer_state]\n",
       "Index: []"
      ]
     },
     "execution_count": 7,
     "metadata": {},
     "output_type": "execute_result"
    }
   ],
   "source": [
    "customers.loc[customers.duplicated()]"
   ]
  },
  {
   "cell_type": "markdown",
   "metadata": {},
   "source": [
    "дубликатов значений нет"
   ]
  },
  {
   "cell_type": "markdown",
   "metadata": {},
   "source": [
    "# Таблица 2. \n",
    "**olist_orders_dataset.csv —  таблица заказов**\n",
    "- order_id —  уникальный идентификатор заказа (номер чека)\n",
    "- customer_id —  позаказный идентификатор пользователя\n",
    "- order_status —  статус заказа\n",
    "- order_purchase_timestamp —  время создания заказа\n",
    "- order_approved_at —  время подтверждения оплаты заказа\n",
    "- order_delivered_carrier_date —  время передачи заказа в логистическую службу\n",
    "- order_delivered_customer_date —  время доставки заказа\n",
    "- order_estimated_delivery_date —  обещанная дата доставки"
   ]
  },
  {
   "cell_type": "code",
   "execution_count": 8,
   "metadata": {
    "scrolled": true,
    "tags": []
   },
   "outputs": [
    {
     "data": {
      "text/html": [
       "<div>\n",
       "<style scoped>\n",
       "    .dataframe tbody tr th:only-of-type {\n",
       "        vertical-align: middle;\n",
       "    }\n",
       "\n",
       "    .dataframe tbody tr th {\n",
       "        vertical-align: top;\n",
       "    }\n",
       "\n",
       "    .dataframe thead th {\n",
       "        text-align: right;\n",
       "    }\n",
       "</style>\n",
       "<table border=\"1\" class=\"dataframe\">\n",
       "  <thead>\n",
       "    <tr style=\"text-align: right;\">\n",
       "      <th></th>\n",
       "      <th>order_id</th>\n",
       "      <th>customer_id</th>\n",
       "      <th>order_status</th>\n",
       "      <th>order_purchase_timestamp</th>\n",
       "      <th>order_approved_at</th>\n",
       "      <th>order_delivered_carrier_date</th>\n",
       "      <th>order_delivered_customer_date</th>\n",
       "      <th>order_estimated_delivery_date</th>\n",
       "    </tr>\n",
       "  </thead>\n",
       "  <tbody>\n",
       "    <tr>\n",
       "      <th>0</th>\n",
       "      <td>e481f51cbdc54678b7cc49136f2d6af7</td>\n",
       "      <td>9ef432eb6251297304e76186b10a928d</td>\n",
       "      <td>delivered</td>\n",
       "      <td>2017-10-02 10:56:33</td>\n",
       "      <td>2017-10-02 11:07:15</td>\n",
       "      <td>2017-10-04 19:55:00</td>\n",
       "      <td>2017-10-10 21:25:13</td>\n",
       "      <td>2017-10-18</td>\n",
       "    </tr>\n",
       "    <tr>\n",
       "      <th>1</th>\n",
       "      <td>53cdb2fc8bc7dce0b6741e2150273451</td>\n",
       "      <td>b0830fb4747a6c6d20dea0b8c802d7ef</td>\n",
       "      <td>delivered</td>\n",
       "      <td>2018-07-24 20:41:37</td>\n",
       "      <td>2018-07-26 03:24:27</td>\n",
       "      <td>2018-07-26 14:31:00</td>\n",
       "      <td>2018-08-07 15:27:45</td>\n",
       "      <td>2018-08-13</td>\n",
       "    </tr>\n",
       "    <tr>\n",
       "      <th>2</th>\n",
       "      <td>47770eb9100c2d0c44946d9cf07ec65d</td>\n",
       "      <td>41ce2a54c0b03bf3443c3d931a367089</td>\n",
       "      <td>delivered</td>\n",
       "      <td>2018-08-08 08:38:49</td>\n",
       "      <td>2018-08-08 08:55:23</td>\n",
       "      <td>2018-08-08 13:50:00</td>\n",
       "      <td>2018-08-17 18:06:29</td>\n",
       "      <td>2018-09-04</td>\n",
       "    </tr>\n",
       "    <tr>\n",
       "      <th>3</th>\n",
       "      <td>949d5b44dbf5de918fe9c16f97b45f8a</td>\n",
       "      <td>f88197465ea7920adcdbec7375364d82</td>\n",
       "      <td>delivered</td>\n",
       "      <td>2017-11-18 19:28:06</td>\n",
       "      <td>2017-11-18 19:45:59</td>\n",
       "      <td>2017-11-22 13:39:59</td>\n",
       "      <td>2017-12-02 00:28:42</td>\n",
       "      <td>2017-12-15</td>\n",
       "    </tr>\n",
       "    <tr>\n",
       "      <th>4</th>\n",
       "      <td>ad21c59c0840e6cb83a9ceb5573f8159</td>\n",
       "      <td>8ab97904e6daea8866dbdbc4fb7aad2c</td>\n",
       "      <td>delivered</td>\n",
       "      <td>2018-02-13 21:18:39</td>\n",
       "      <td>2018-02-13 22:20:29</td>\n",
       "      <td>2018-02-14 19:46:34</td>\n",
       "      <td>2018-02-16 18:17:02</td>\n",
       "      <td>2018-02-26</td>\n",
       "    </tr>\n",
       "  </tbody>\n",
       "</table>\n",
       "</div>"
      ],
      "text/plain": [
       "                           order_id                       customer_id  \\\n",
       "0  e481f51cbdc54678b7cc49136f2d6af7  9ef432eb6251297304e76186b10a928d   \n",
       "1  53cdb2fc8bc7dce0b6741e2150273451  b0830fb4747a6c6d20dea0b8c802d7ef   \n",
       "2  47770eb9100c2d0c44946d9cf07ec65d  41ce2a54c0b03bf3443c3d931a367089   \n",
       "3  949d5b44dbf5de918fe9c16f97b45f8a  f88197465ea7920adcdbec7375364d82   \n",
       "4  ad21c59c0840e6cb83a9ceb5573f8159  8ab97904e6daea8866dbdbc4fb7aad2c   \n",
       "\n",
       "  order_status order_purchase_timestamp   order_approved_at  \\\n",
       "0    delivered      2017-10-02 10:56:33 2017-10-02 11:07:15   \n",
       "1    delivered      2018-07-24 20:41:37 2018-07-26 03:24:27   \n",
       "2    delivered      2018-08-08 08:38:49 2018-08-08 08:55:23   \n",
       "3    delivered      2017-11-18 19:28:06 2017-11-18 19:45:59   \n",
       "4    delivered      2018-02-13 21:18:39 2018-02-13 22:20:29   \n",
       "\n",
       "  order_delivered_carrier_date order_delivered_customer_date  \\\n",
       "0          2017-10-04 19:55:00           2017-10-10 21:25:13   \n",
       "1          2018-07-26 14:31:00           2018-08-07 15:27:45   \n",
       "2          2018-08-08 13:50:00           2018-08-17 18:06:29   \n",
       "3          2017-11-22 13:39:59           2017-12-02 00:28:42   \n",
       "4          2018-02-14 19:46:34           2018-02-16 18:17:02   \n",
       "\n",
       "  order_estimated_delivery_date  \n",
       "0                    2017-10-18  \n",
       "1                    2018-08-13  \n",
       "2                    2018-09-04  \n",
       "3                    2017-12-15  \n",
       "4                    2018-02-26  "
      ]
     },
     "execution_count": 8,
     "metadata": {},
     "output_type": "execute_result"
    }
   ],
   "source": [
    "orders = pd.read_csv('https://getfile.dokpub.com/yandex/get/https://disk.yandex.ru/d/0zWmh1bYP6REbw',\n",
    "                     parse_dates=['order_purchase_timestamp',\n",
    "                                  'order_approved_at',\n",
    "                                  'order_delivered_carrier_date',\n",
    "                                  'order_delivered_customer_date',\n",
    "                                  'order_estimated_delivery_date'])\n",
    "orders.head()"
   ]
  },
  {
   "cell_type": "markdown",
   "metadata": {},
   "source": [
    "**Смотрим пример заказов со статусом \"approved\"**"
   ]
  },
  {
   "cell_type": "code",
   "execution_count": 10,
   "metadata": {
    "scrolled": true,
    "tags": []
   },
   "outputs": [
    {
     "data": {
      "text/html": [
       "<div>\n",
       "<style scoped>\n",
       "    .dataframe tbody tr th:only-of-type {\n",
       "        vertical-align: middle;\n",
       "    }\n",
       "\n",
       "    .dataframe tbody tr th {\n",
       "        vertical-align: top;\n",
       "    }\n",
       "\n",
       "    .dataframe thead th {\n",
       "        text-align: right;\n",
       "    }\n",
       "</style>\n",
       "<table border=\"1\" class=\"dataframe\">\n",
       "  <thead>\n",
       "    <tr style=\"text-align: right;\">\n",
       "      <th></th>\n",
       "      <th>order_id</th>\n",
       "      <th>customer_id</th>\n",
       "      <th>order_status</th>\n",
       "      <th>order_purchase_timestamp</th>\n",
       "      <th>order_approved_at</th>\n",
       "      <th>order_delivered_carrier_date</th>\n",
       "      <th>order_delivered_customer_date</th>\n",
       "      <th>order_estimated_delivery_date</th>\n",
       "    </tr>\n",
       "  </thead>\n",
       "  <tbody>\n",
       "    <tr>\n",
       "      <th>44897</th>\n",
       "      <td>a2e4c44360b4a57bdff22f3a4630c173</td>\n",
       "      <td>8886130db0ea6e9e70ba0b03d7c0d286</td>\n",
       "      <td>approved</td>\n",
       "      <td>2017-02-06 20:18:17</td>\n",
       "      <td>2017-02-06 20:30:19</td>\n",
       "      <td>NaT</td>\n",
       "      <td>NaT</td>\n",
       "      <td>2017-03-01</td>\n",
       "    </tr>\n",
       "    <tr>\n",
       "      <th>88457</th>\n",
       "      <td>132f1e724165a07f6362532bfb97486e</td>\n",
       "      <td>b2191912d8ad6eac2e4dc3b6e1459515</td>\n",
       "      <td>approved</td>\n",
       "      <td>2017-04-25 01:25:34</td>\n",
       "      <td>2017-04-30 20:32:41</td>\n",
       "      <td>NaT</td>\n",
       "      <td>NaT</td>\n",
       "      <td>2017-05-22</td>\n",
       "    </tr>\n",
       "  </tbody>\n",
       "</table>\n",
       "</div>"
      ],
      "text/plain": [
       "                               order_id                       customer_id  \\\n",
       "44897  a2e4c44360b4a57bdff22f3a4630c173  8886130db0ea6e9e70ba0b03d7c0d286   \n",
       "88457  132f1e724165a07f6362532bfb97486e  b2191912d8ad6eac2e4dc3b6e1459515   \n",
       "\n",
       "      order_status order_purchase_timestamp   order_approved_at  \\\n",
       "44897     approved      2017-02-06 20:18:17 2017-02-06 20:30:19   \n",
       "88457     approved      2017-04-25 01:25:34 2017-04-30 20:32:41   \n",
       "\n",
       "      order_delivered_carrier_date order_delivered_customer_date  \\\n",
       "44897                          NaT                           NaT   \n",
       "88457                          NaT                           NaT   \n",
       "\n",
       "      order_estimated_delivery_date  \n",
       "44897                    2017-03-01  \n",
       "88457                    2017-05-22  "
      ]
     },
     "execution_count": 10,
     "metadata": {},
     "output_type": "execute_result"
    }
   ],
   "source": [
    "orders.loc[orders.order_status == \"approved\"]"
   ]
  },
  {
   "cell_type": "markdown",
   "metadata": {},
   "source": [
    "**Смотрим тип данных в таблице, наличие пропущенных значений, а также размеры дата фрейма:**"
   ]
  },
  {
   "cell_type": "code",
   "execution_count": 13,
   "metadata": {
    "tags": []
   },
   "outputs": [
    {
     "name": "stdout",
     "output_type": "stream",
     "text": [
      "<class 'pandas.core.frame.DataFrame'>\n",
      "RangeIndex: 99441 entries, 0 to 99440\n",
      "Data columns (total 8 columns):\n",
      " #   Column                         Non-Null Count  Dtype         \n",
      "---  ------                         --------------  -----         \n",
      " 0   order_id                       99441 non-null  object        \n",
      " 1   customer_id                    99441 non-null  object        \n",
      " 2   order_status                   99441 non-null  object        \n",
      " 3   order_purchase_timestamp       99441 non-null  datetime64[ns]\n",
      " 4   order_approved_at              99281 non-null  datetime64[ns]\n",
      " 5   order_delivered_carrier_date   97658 non-null  datetime64[ns]\n",
      " 6   order_delivered_customer_date  96476 non-null  datetime64[ns]\n",
      " 7   order_estimated_delivery_date  99441 non-null  datetime64[ns]\n",
      "dtypes: datetime64[ns](5), object(3)\n",
      "memory usage: 6.1+ MB\n"
     ]
    }
   ],
   "source": [
    "orders.info()"
   ]
  },
  {
   "cell_type": "markdown",
   "metadata": {},
   "source": [
    "**Изучаем данные на наличие пропущенных значений:**"
   ]
  },
  {
   "cell_type": "code",
   "execution_count": 14,
   "metadata": {
    "tags": []
   },
   "outputs": [
    {
     "data": {
      "text/plain": [
       "order_id                            0\n",
       "customer_id                         0\n",
       "order_status                        0\n",
       "order_purchase_timestamp            0\n",
       "order_approved_at                 160\n",
       "order_delivered_carrier_date     1783\n",
       "order_delivered_customer_date    2965\n",
       "order_estimated_delivery_date       0\n",
       "dtype: int64"
      ]
     },
     "execution_count": 14,
     "metadata": {},
     "output_type": "execute_result"
    }
   ],
   "source": [
    "orders.isna().sum()"
   ]
  },
  {
   "cell_type": "markdown",
   "metadata": {},
   "source": [
    "Считаем сколько раз в датафрейме повторяется каждый статус:"
   ]
  },
  {
   "cell_type": "code",
   "execution_count": 15,
   "metadata": {
    "tags": []
   },
   "outputs": [
    {
     "data": {
      "text/plain": [
       "delivered      96478\n",
       "shipped         1107\n",
       "canceled         625\n",
       "unavailable      609\n",
       "invoiced         314\n",
       "processing       301\n",
       "created            5\n",
       "approved           2\n",
       "Name: order_status, dtype: int64"
      ]
     },
     "execution_count": 15,
     "metadata": {},
     "output_type": "execute_result"
    }
   ],
   "source": [
    "orders.order_status.value_counts()"
   ]
  },
  {
   "cell_type": "markdown",
   "metadata": {},
   "source": [
    "Считаем заказы с каким статусом имеют пропущенные значения в столбце со временем подтверждения оплаты, а также количество пропущенных значений для каждого статуса:"
   ]
  },
  {
   "cell_type": "code",
   "execution_count": 16,
   "metadata": {
    "tags": []
   },
   "outputs": [
    {
     "data": {
      "text/plain": [
       "canceled     141\n",
       "delivered     14\n",
       "created        5\n",
       "Name: order_status, dtype: int64"
      ]
     },
     "execution_count": 16,
     "metadata": {},
     "output_type": "execute_result"
    }
   ],
   "source": [
    "orders[orders.order_approved_at.isna()].order_status.value_counts()"
   ]
  },
  {
   "cell_type": "markdown",
   "metadata": {},
   "source": [
    "Считаем заказы с каким статусом имеют пропущенные значения в столбце со временем передачи заказа в логистическую службу, а также количество пропущенных значений для каждого статуса: "
   ]
  },
  {
   "cell_type": "code",
   "execution_count": 17,
   "metadata": {
    "tags": []
   },
   "outputs": [
    {
     "data": {
      "text/plain": [
       "unavailable    609\n",
       "canceled       550\n",
       "invoiced       314\n",
       "processing     301\n",
       "created          5\n",
       "approved         2\n",
       "delivered        2\n",
       "Name: order_status, dtype: int64"
      ]
     },
     "execution_count": 17,
     "metadata": {},
     "output_type": "execute_result"
    }
   ],
   "source": [
    "orders[orders.order_delivered_carrier_date.isna()].order_status.value_counts()"
   ]
  },
  {
   "cell_type": "markdown",
   "metadata": {},
   "source": [
    "Считаем заказы с каким статусом имеют пропущенные значения в столбце со временем доставки заказа клиенту, а также количество пропущенных значений для каждого статуса: "
   ]
  },
  {
   "cell_type": "code",
   "execution_count": 18,
   "metadata": {
    "tags": []
   },
   "outputs": [
    {
     "data": {
      "text/plain": [
       "shipped        1107\n",
       "canceled        619\n",
       "unavailable     609\n",
       "invoiced        314\n",
       "processing      301\n",
       "delivered         8\n",
       "created           5\n",
       "approved          2\n",
       "Name: order_status, dtype: int64"
      ]
     },
     "execution_count": 18,
     "metadata": {},
     "output_type": "execute_result"
    }
   ],
   "source": [
    "orders[orders.order_delivered_customer_date.isna()].order_status.value_counts()"
   ]
  },
  {
   "cell_type": "markdown",
   "metadata": {},
   "source": [
    "**Объяснение отсуствующих значений и объяснение статусов заказов**\n",
    "\n",
    "1) created — создан:\n",
    "- *возможная причина отсутствия значений:* товары с этим статусом только закинуты в корзину пользователя и для них будет отсутствовать время подтверждения оплаты, передачи на доставку и самой доставки.\n",
    "- *ИТОГ по статусам created* - отсутствие данных является нормальным, удалять строки с пустыми значениями не надо.         \n",
    "    \n",
    "2) invoiced —  выставлен счёт \n",
    "- *возможная причина отсутствия значений:* по заказам с таким статусом прошла оплата по выставленному инвойсу. Поэтому дата оплаты будет в данных, а дат передачи в лог.службу и доставки клиенту - нет.        \n",
    "- *ИТОГ по статусам invoiced* - отсутствие данных является нормальным, удалять строки с пустыми значениями не надо.   \n",
    "    \n",
    "4) approved —  подтверждён \n",
    "- *возможная причина отсутствия значений:* по заказам с таким статусом прошла оплата по карточке, наличиными и возможно для клиента подтвердили возможность оплаты после получения. Поэтому дата оплаты будет в данных, а дат передачи в лог.службу и самой доставки - нет.                \n",
    "- *ИТОГ по статусам approved* - отсутствие данных является нормальным, удалять строки с пустыми значениями не надо.  \n",
    "        \n",
    "5) processing —  в процессе сборки заказа \n",
    "- *возможная причина отсутствия значений:* поскольку, предположительно, мы лишь передали на склад информацию об оплаченном заказе для его сборки, а склад подтвердил принятие его в работу, то логично, что дата оплаты в данных будет, а дат передачи в лог.службу и самой доставки - нет.        \n",
    "- *ИТОГ по статусам processing* - отсутствие данных является нормальным, удалять строки с пустыми значениями не надо.\n",
    "    \n",
    "6) unavailable —  недоступен\n",
    "- *возможная причина отсутствия значений:* скорее всего в процессе сборки заказа на складе выявилась невозможность собрать заказ. Это может быть по причине нарушенных процессов на складе (товар есть, но его не нашли), или по причине того, что покупатели оплатили товар, который отражался как доступный для покупки на сайте, но фактически его не поставил на склад продавец. Поэтому логично, что дата оплаты в данных будет, а дат передачи в лог.службу и самой доставки -  нет.  \n",
    "- *ИТОГ по статусам unavailable* - отсутствие данных является нормальным, удалять строки с пустыми значениями не надо.  \n",
    "        \n",
    "7) shipped —  отгружен со склада \n",
    "- *возможная причина отсутствия значений:* собранный заказ передан в логистическую службу и ожидает получения клиентом. Поэтому даты получения получения заказа клиентом в данных нет.         \n",
    "- *ИТОГ по статусам shipped* - отсутствие данных является нормальным, удалять строки с пустыми значениями не надо.    \n",
    "    \n",
    "8) delivered —  доставлен пользователю \n",
    "- *возможная причина отсутствия значений:* поскольку этот статус обозначает доставленные заказы, то для таких заказов должны быть даты по всем ключевым событиям.          \n",
    "- *ИТОГ по статусам delivered* - поскольку заказов с таким статусом и пропущенными значениями незначительно мало, то можно оставить строки с пропусками значений по статусу delivered.        \n",
    "    \n",
    "9) canceled —  отменён \n",
    "- *возможная причина отсутствия значений:* поскольку, предположительно, заказ может быть отменен на любой стадии после создания, то логично, что в какой-либо из колонок с датами не будет данных         \n",
    "- *ИТОГ по статусам processing* - отсутствие данных является нормальным, удалять строки с пустыми значениями не надо.       "
   ]
  },
  {
   "cell_type": "markdown",
   "metadata": {},
   "source": [
    "**Устанавливаем период, за который предоставлены данные:**"
   ]
  },
  {
   "cell_type": "code",
   "execution_count": 19,
   "metadata": {
    "tags": []
   },
   "outputs": [],
   "source": [
    "min_period = min([orders['order_purchase_timestamp'].min(),\n",
    "                  orders['order_approved_at'].min(), \n",
    "                  orders['order_delivered_carrier_date'].min(),\n",
    "                  orders['order_delivered_customer_date'].min()])"
   ]
  },
  {
   "cell_type": "code",
   "execution_count": 20,
   "metadata": {
    "tags": []
   },
   "outputs": [],
   "source": [
    "max_period = max([orders['order_purchase_timestamp'].max(),\n",
    "                  orders['order_approved_at'].max(), \n",
    "                  orders['order_delivered_carrier_date'].max(),\n",
    "                  orders['order_delivered_customer_date'].max()])"
   ]
  },
  {
   "cell_type": "code",
   "execution_count": 21,
   "metadata": {
    "scrolled": true,
    "tags": []
   },
   "outputs": [
    {
     "name": "stdout",
     "output_type": "stream",
     "text": [
      "Период за который предоставлены данные в датафрейме orders: [2016-09-04 21:15:19; 2018-10-17 17:30:18]\n"
     ]
    }
   ],
   "source": [
    "print(f'Период за который предоставлены данные в датафрейме orders: [{min_period}; {max_period}]')"
   ]
  },
  {
   "cell_type": "markdown",
   "metadata": {},
   "source": [
    "**Проверяем датафрейм на дубликаты:**"
   ]
  },
  {
   "cell_type": "code",
   "execution_count": 22,
   "metadata": {
    "tags": []
   },
   "outputs": [
    {
     "data": {
      "text/html": [
       "<div>\n",
       "<style scoped>\n",
       "    .dataframe tbody tr th:only-of-type {\n",
       "        vertical-align: middle;\n",
       "    }\n",
       "\n",
       "    .dataframe tbody tr th {\n",
       "        vertical-align: top;\n",
       "    }\n",
       "\n",
       "    .dataframe thead th {\n",
       "        text-align: right;\n",
       "    }\n",
       "</style>\n",
       "<table border=\"1\" class=\"dataframe\">\n",
       "  <thead>\n",
       "    <tr style=\"text-align: right;\">\n",
       "      <th></th>\n",
       "      <th>order_id</th>\n",
       "      <th>customer_id</th>\n",
       "      <th>order_status</th>\n",
       "      <th>order_purchase_timestamp</th>\n",
       "      <th>order_approved_at</th>\n",
       "      <th>order_delivered_carrier_date</th>\n",
       "      <th>order_delivered_customer_date</th>\n",
       "      <th>order_estimated_delivery_date</th>\n",
       "    </tr>\n",
       "  </thead>\n",
       "  <tbody>\n",
       "  </tbody>\n",
       "</table>\n",
       "</div>"
      ],
      "text/plain": [
       "Empty DataFrame\n",
       "Columns: [order_id, customer_id, order_status, order_purchase_timestamp, order_approved_at, order_delivered_carrier_date, order_delivered_customer_date, order_estimated_delivery_date]\n",
       "Index: []"
      ]
     },
     "execution_count": 22,
     "metadata": {},
     "output_type": "execute_result"
    }
   ],
   "source": [
    "orders[orders.duplicated()]"
   ]
  },
  {
   "cell_type": "markdown",
   "metadata": {},
   "source": [
    "# Таблица 3. \n",
    "**olist_order_items_dataset.csv —  товарные позиции, входящие в заказы**\n",
    "- order_id —  уникальный идентификатор заказа (номер чека)\n",
    "- order_item_id —  идентификатор товара внутри одного заказа\n",
    "- product_id —  ид товара (аналог штрихкода)\n",
    "- seller_id — ид производителя товара\n",
    "- shipping_limit_date —  максимальная дата доставки продавцом для передачи заказа партнеру по логистике\n",
    "- price —  цена за единицу товара\n",
    "- freight_value —  вес товара "
   ]
  },
  {
   "cell_type": "code",
   "execution_count": 23,
   "metadata": {
    "tags": []
   },
   "outputs": [
    {
     "data": {
      "text/html": [
       "<div>\n",
       "<style scoped>\n",
       "    .dataframe tbody tr th:only-of-type {\n",
       "        vertical-align: middle;\n",
       "    }\n",
       "\n",
       "    .dataframe tbody tr th {\n",
       "        vertical-align: top;\n",
       "    }\n",
       "\n",
       "    .dataframe thead th {\n",
       "        text-align: right;\n",
       "    }\n",
       "</style>\n",
       "<table border=\"1\" class=\"dataframe\">\n",
       "  <thead>\n",
       "    <tr style=\"text-align: right;\">\n",
       "      <th></th>\n",
       "      <th>order_id</th>\n",
       "      <th>order_item_id</th>\n",
       "      <th>product_id</th>\n",
       "      <th>seller_id</th>\n",
       "      <th>shipping_limit_date</th>\n",
       "      <th>price</th>\n",
       "      <th>freight_value</th>\n",
       "    </tr>\n",
       "  </thead>\n",
       "  <tbody>\n",
       "    <tr>\n",
       "      <th>0</th>\n",
       "      <td>00010242fe8c5a6d1ba2dd792cb16214</td>\n",
       "      <td>1</td>\n",
       "      <td>4244733e06e7ecb4970a6e2683c13e61</td>\n",
       "      <td>48436dade18ac8b2bce089ec2a041202</td>\n",
       "      <td>2017-09-19 09:45:35</td>\n",
       "      <td>58.90</td>\n",
       "      <td>13.29</td>\n",
       "    </tr>\n",
       "    <tr>\n",
       "      <th>1</th>\n",
       "      <td>00018f77f2f0320c557190d7a144bdd3</td>\n",
       "      <td>1</td>\n",
       "      <td>e5f2d52b802189ee658865ca93d83a8f</td>\n",
       "      <td>dd7ddc04e1b6c2c614352b383efe2d36</td>\n",
       "      <td>2017-05-03 11:05:13</td>\n",
       "      <td>239.90</td>\n",
       "      <td>19.93</td>\n",
       "    </tr>\n",
       "    <tr>\n",
       "      <th>2</th>\n",
       "      <td>000229ec398224ef6ca0657da4fc703e</td>\n",
       "      <td>1</td>\n",
       "      <td>c777355d18b72b67abbeef9df44fd0fd</td>\n",
       "      <td>5b51032eddd242adc84c38acab88f23d</td>\n",
       "      <td>2018-01-18 14:48:30</td>\n",
       "      <td>199.00</td>\n",
       "      <td>17.87</td>\n",
       "    </tr>\n",
       "    <tr>\n",
       "      <th>3</th>\n",
       "      <td>00024acbcdf0a6daa1e931b038114c75</td>\n",
       "      <td>1</td>\n",
       "      <td>7634da152a4610f1595efa32f14722fc</td>\n",
       "      <td>9d7a1d34a5052409006425275ba1c2b4</td>\n",
       "      <td>2018-08-15 10:10:18</td>\n",
       "      <td>12.99</td>\n",
       "      <td>12.79</td>\n",
       "    </tr>\n",
       "    <tr>\n",
       "      <th>4</th>\n",
       "      <td>00042b26cf59d7ce69dfabb4e55b4fd9</td>\n",
       "      <td>1</td>\n",
       "      <td>ac6c3623068f30de03045865e4e10089</td>\n",
       "      <td>df560393f3a51e74553ab94004ba5c87</td>\n",
       "      <td>2017-02-13 13:57:51</td>\n",
       "      <td>199.90</td>\n",
       "      <td>18.14</td>\n",
       "    </tr>\n",
       "  </tbody>\n",
       "</table>\n",
       "</div>"
      ],
      "text/plain": [
       "                           order_id  order_item_id  \\\n",
       "0  00010242fe8c5a6d1ba2dd792cb16214              1   \n",
       "1  00018f77f2f0320c557190d7a144bdd3              1   \n",
       "2  000229ec398224ef6ca0657da4fc703e              1   \n",
       "3  00024acbcdf0a6daa1e931b038114c75              1   \n",
       "4  00042b26cf59d7ce69dfabb4e55b4fd9              1   \n",
       "\n",
       "                         product_id                         seller_id  \\\n",
       "0  4244733e06e7ecb4970a6e2683c13e61  48436dade18ac8b2bce089ec2a041202   \n",
       "1  e5f2d52b802189ee658865ca93d83a8f  dd7ddc04e1b6c2c614352b383efe2d36   \n",
       "2  c777355d18b72b67abbeef9df44fd0fd  5b51032eddd242adc84c38acab88f23d   \n",
       "3  7634da152a4610f1595efa32f14722fc  9d7a1d34a5052409006425275ba1c2b4   \n",
       "4  ac6c3623068f30de03045865e4e10089  df560393f3a51e74553ab94004ba5c87   \n",
       "\n",
       "  shipping_limit_date   price  freight_value  \n",
       "0 2017-09-19 09:45:35   58.90          13.29  \n",
       "1 2017-05-03 11:05:13  239.90          19.93  \n",
       "2 2018-01-18 14:48:30  199.00          17.87  \n",
       "3 2018-08-15 10:10:18   12.99          12.79  \n",
       "4 2017-02-13 13:57:51  199.90          18.14  "
      ]
     },
     "execution_count": 23,
     "metadata": {},
     "output_type": "execute_result"
    }
   ],
   "source": [
    "order_items = pd.read_csv('https://getfile.dokpub.com/yandex/get/https://disk.yandex.ru/d/xCsQ0FiC-Ue4Lg',\n",
    "                          parse_dates=['shipping_limit_date'])\n",
    "order_items.head()"
   ]
  },
  {
   "cell_type": "markdown",
   "metadata": {},
   "source": [
    "**В датафрейме order_items структура заказа на примере order_id == '8272b63d03f5f79c56e9e4120aec44ef' выглядит так:**"
   ]
  },
  {
   "cell_type": "code",
   "execution_count": 24,
   "metadata": {
    "tags": []
   },
   "outputs": [
    {
     "data": {
      "text/html": [
       "<div>\n",
       "<style scoped>\n",
       "    .dataframe tbody tr th:only-of-type {\n",
       "        vertical-align: middle;\n",
       "    }\n",
       "\n",
       "    .dataframe tbody tr th {\n",
       "        vertical-align: top;\n",
       "    }\n",
       "\n",
       "    .dataframe thead th {\n",
       "        text-align: right;\n",
       "    }\n",
       "</style>\n",
       "<table border=\"1\" class=\"dataframe\">\n",
       "  <thead>\n",
       "    <tr style=\"text-align: right;\">\n",
       "      <th></th>\n",
       "      <th>order_id</th>\n",
       "      <th>order_item_id</th>\n",
       "      <th>product_id</th>\n",
       "      <th>seller_id</th>\n",
       "      <th>shipping_limit_date</th>\n",
       "      <th>price</th>\n",
       "      <th>freight_value</th>\n",
       "    </tr>\n",
       "  </thead>\n",
       "  <tbody>\n",
       "    <tr>\n",
       "      <th>57297</th>\n",
       "      <td>8272b63d03f5f79c56e9e4120aec44ef</td>\n",
       "      <td>1</td>\n",
       "      <td>270516a3f41dc035aa87d220228f844c</td>\n",
       "      <td>2709af9587499e95e803a6498a5a56e9</td>\n",
       "      <td>2017-07-21 18:25:23</td>\n",
       "      <td>1.2</td>\n",
       "      <td>7.89</td>\n",
       "    </tr>\n",
       "    <tr>\n",
       "      <th>57298</th>\n",
       "      <td>8272b63d03f5f79c56e9e4120aec44ef</td>\n",
       "      <td>2</td>\n",
       "      <td>05b515fdc76e888aada3c6d66c201dff</td>\n",
       "      <td>2709af9587499e95e803a6498a5a56e9</td>\n",
       "      <td>2017-07-21 18:25:23</td>\n",
       "      <td>1.2</td>\n",
       "      <td>7.89</td>\n",
       "    </tr>\n",
       "    <tr>\n",
       "      <th>57299</th>\n",
       "      <td>8272b63d03f5f79c56e9e4120aec44ef</td>\n",
       "      <td>3</td>\n",
       "      <td>05b515fdc76e888aada3c6d66c201dff</td>\n",
       "      <td>2709af9587499e95e803a6498a5a56e9</td>\n",
       "      <td>2017-07-21 18:25:23</td>\n",
       "      <td>1.2</td>\n",
       "      <td>7.89</td>\n",
       "    </tr>\n",
       "    <tr>\n",
       "      <th>57300</th>\n",
       "      <td>8272b63d03f5f79c56e9e4120aec44ef</td>\n",
       "      <td>4</td>\n",
       "      <td>05b515fdc76e888aada3c6d66c201dff</td>\n",
       "      <td>2709af9587499e95e803a6498a5a56e9</td>\n",
       "      <td>2017-07-21 18:25:23</td>\n",
       "      <td>1.2</td>\n",
       "      <td>7.89</td>\n",
       "    </tr>\n",
       "    <tr>\n",
       "      <th>57301</th>\n",
       "      <td>8272b63d03f5f79c56e9e4120aec44ef</td>\n",
       "      <td>5</td>\n",
       "      <td>05b515fdc76e888aada3c6d66c201dff</td>\n",
       "      <td>2709af9587499e95e803a6498a5a56e9</td>\n",
       "      <td>2017-07-21 18:25:23</td>\n",
       "      <td>1.2</td>\n",
       "      <td>7.89</td>\n",
       "    </tr>\n",
       "  </tbody>\n",
       "</table>\n",
       "</div>"
      ],
      "text/plain": [
       "                               order_id  order_item_id  \\\n",
       "57297  8272b63d03f5f79c56e9e4120aec44ef              1   \n",
       "57298  8272b63d03f5f79c56e9e4120aec44ef              2   \n",
       "57299  8272b63d03f5f79c56e9e4120aec44ef              3   \n",
       "57300  8272b63d03f5f79c56e9e4120aec44ef              4   \n",
       "57301  8272b63d03f5f79c56e9e4120aec44ef              5   \n",
       "\n",
       "                             product_id                         seller_id  \\\n",
       "57297  270516a3f41dc035aa87d220228f844c  2709af9587499e95e803a6498a5a56e9   \n",
       "57298  05b515fdc76e888aada3c6d66c201dff  2709af9587499e95e803a6498a5a56e9   \n",
       "57299  05b515fdc76e888aada3c6d66c201dff  2709af9587499e95e803a6498a5a56e9   \n",
       "57300  05b515fdc76e888aada3c6d66c201dff  2709af9587499e95e803a6498a5a56e9   \n",
       "57301  05b515fdc76e888aada3c6d66c201dff  2709af9587499e95e803a6498a5a56e9   \n",
       "\n",
       "      shipping_limit_date  price  freight_value  \n",
       "57297 2017-07-21 18:25:23    1.2           7.89  \n",
       "57298 2017-07-21 18:25:23    1.2           7.89  \n",
       "57299 2017-07-21 18:25:23    1.2           7.89  \n",
       "57300 2017-07-21 18:25:23    1.2           7.89  \n",
       "57301 2017-07-21 18:25:23    1.2           7.89  "
      ]
     },
     "execution_count": 24,
     "metadata": {},
     "output_type": "execute_result"
    }
   ],
   "source": [
    "test_order = order_items.query(\"order_id == '8272b63d03f5f79c56e9e4120aec44ef'\")\n",
    "test_order.head()"
   ]
  },
  {
   "cell_type": "markdown",
   "metadata": {},
   "source": [
    "Значит для расчета суммы одного заказа необходимо будет произвести следующие расчеты \n",
    "на примере заказа 8272b63d03f5f79c56e9e4120aec44ef"
   ]
  },
  {
   "cell_type": "code",
   "execution_count": 25,
   "metadata": {
    "tags": []
   },
   "outputs": [
    {
     "data": {
      "text/plain": [
       "31.8"
      ]
     },
     "execution_count": 25,
     "metadata": {},
     "output_type": "execute_result"
    }
   ],
   "source": [
    "test_1 = test_order.groupby([\"order_id\", \"product_id\", \"price\"],as_index=False) \\\n",
    "    .product_id.count()\n",
    "test_1 = test_1.assign(revenue_id = test_1.price * test_1.product_id)\n",
    "test_1.revenue_id.sum()"
   ]
  },
  {
   "cell_type": "markdown",
   "metadata": {},
   "source": [
    "Как видно, в датафрейме есть заказы, которые содержат больше одного товара"
   ]
  },
  {
   "cell_type": "code",
   "execution_count": 27,
   "metadata": {
    "tags": []
   },
   "outputs": [
    {
     "data": {
      "text/html": [
       "<div>\n",
       "<style scoped>\n",
       "    .dataframe tbody tr th:only-of-type {\n",
       "        vertical-align: middle;\n",
       "    }\n",
       "\n",
       "    .dataframe tbody tr th {\n",
       "        vertical-align: top;\n",
       "    }\n",
       "\n",
       "    .dataframe thead th {\n",
       "        text-align: right;\n",
       "    }\n",
       "</style>\n",
       "<table border=\"1\" class=\"dataframe\">\n",
       "  <thead>\n",
       "    <tr style=\"text-align: right;\">\n",
       "      <th></th>\n",
       "      <th>order_id</th>\n",
       "      <th>order_item_id</th>\n",
       "    </tr>\n",
       "  </thead>\n",
       "  <tbody>\n",
       "    <tr>\n",
       "      <th>50137</th>\n",
       "      <td>8272b63d03f5f79c56e9e4120aec44ef</td>\n",
       "      <td>21</td>\n",
       "    </tr>\n",
       "    <tr>\n",
       "      <th>10459</th>\n",
       "      <td>1b15974a0141d54e36626dca3fdc731a</td>\n",
       "      <td>20</td>\n",
       "    </tr>\n",
       "    <tr>\n",
       "      <th>65715</th>\n",
       "      <td>ab14fdcfbe524636d65ee38360e22ce8</td>\n",
       "      <td>20</td>\n",
       "    </tr>\n",
       "    <tr>\n",
       "      <th>60941</th>\n",
       "      <td>9ef13efd6949e4573a18964dd1bbe7f5</td>\n",
       "      <td>15</td>\n",
       "    </tr>\n",
       "    <tr>\n",
       "      <th>25583</th>\n",
       "      <td>428a2f660dc84138d969ccd69a0ab6d5</td>\n",
       "      <td>15</td>\n",
       "    </tr>\n",
       "    <tr>\n",
       "      <th>...</th>\n",
       "      <td>...</td>\n",
       "      <td>...</td>\n",
       "    </tr>\n",
       "    <tr>\n",
       "      <th>34640</th>\n",
       "      <td>5a0911d70c1f85d3bed0df1bf693a6dd</td>\n",
       "      <td>1</td>\n",
       "    </tr>\n",
       "    <tr>\n",
       "      <th>34639</th>\n",
       "      <td>5a082b558a3798d3e36d93bfa8ca1eae</td>\n",
       "      <td>1</td>\n",
       "    </tr>\n",
       "    <tr>\n",
       "      <th>34637</th>\n",
       "      <td>5a07264682e0b8fbb3f166edbbffc6e8</td>\n",
       "      <td>1</td>\n",
       "    </tr>\n",
       "    <tr>\n",
       "      <th>34636</th>\n",
       "      <td>5a071192a28951b76774e5a760c8c9b7</td>\n",
       "      <td>1</td>\n",
       "    </tr>\n",
       "    <tr>\n",
       "      <th>98665</th>\n",
       "      <td>fffe41c64501cc87c801fd61db3f6244</td>\n",
       "      <td>1</td>\n",
       "    </tr>\n",
       "  </tbody>\n",
       "</table>\n",
       "<p>98666 rows × 2 columns</p>\n",
       "</div>"
      ],
      "text/plain": [
       "                               order_id  order_item_id\n",
       "50137  8272b63d03f5f79c56e9e4120aec44ef             21\n",
       "10459  1b15974a0141d54e36626dca3fdc731a             20\n",
       "65715  ab14fdcfbe524636d65ee38360e22ce8             20\n",
       "60941  9ef13efd6949e4573a18964dd1bbe7f5             15\n",
       "25583  428a2f660dc84138d969ccd69a0ab6d5             15\n",
       "...                                 ...            ...\n",
       "34640  5a0911d70c1f85d3bed0df1bf693a6dd              1\n",
       "34639  5a082b558a3798d3e36d93bfa8ca1eae              1\n",
       "34637  5a07264682e0b8fbb3f166edbbffc6e8              1\n",
       "34636  5a071192a28951b76774e5a760c8c9b7              1\n",
       "98665  fffe41c64501cc87c801fd61db3f6244              1\n",
       "\n",
       "[98666 rows x 2 columns]"
      ]
     },
     "execution_count": 27,
     "metadata": {},
     "output_type": "execute_result"
    }
   ],
   "source": [
    "order_items.groupby(\"order_id\",as_index=False) \\\n",
    "    .order_item_id.max() \\\n",
    "    .sort_values(\"order_item_id\", ascending=False)"
   ]
  },
  {
   "cell_type": "markdown",
   "metadata": {},
   "source": [
    "**Смотрим тип данных в таблице, наличие пропущенных значений, а также размеры дата фрейма:**"
   ]
  },
  {
   "cell_type": "code",
   "execution_count": 28,
   "metadata": {
    "tags": []
   },
   "outputs": [
    {
     "name": "stdout",
     "output_type": "stream",
     "text": [
      "<class 'pandas.core.frame.DataFrame'>\n",
      "RangeIndex: 112650 entries, 0 to 112649\n",
      "Data columns (total 7 columns):\n",
      " #   Column               Non-Null Count   Dtype         \n",
      "---  ------               --------------   -----         \n",
      " 0   order_id             112650 non-null  object        \n",
      " 1   order_item_id        112650 non-null  int64         \n",
      " 2   product_id           112650 non-null  object        \n",
      " 3   seller_id            112650 non-null  object        \n",
      " 4   shipping_limit_date  112650 non-null  datetime64[ns]\n",
      " 5   price                112650 non-null  float64       \n",
      " 6   freight_value        112650 non-null  float64       \n",
      "dtypes: datetime64[ns](1), float64(2), int64(1), object(3)\n",
      "memory usage: 6.0+ MB\n"
     ]
    }
   ],
   "source": [
    "order_items.info()"
   ]
  },
  {
   "cell_type": "markdown",
   "metadata": {},
   "source": [
    "**Проверяем датафрейм на дубликаты:**"
   ]
  },
  {
   "cell_type": "code",
   "execution_count": 29,
   "metadata": {
    "tags": []
   },
   "outputs": [
    {
     "data": {
      "text/html": [
       "<div>\n",
       "<style scoped>\n",
       "    .dataframe tbody tr th:only-of-type {\n",
       "        vertical-align: middle;\n",
       "    }\n",
       "\n",
       "    .dataframe tbody tr th {\n",
       "        vertical-align: top;\n",
       "    }\n",
       "\n",
       "    .dataframe thead th {\n",
       "        text-align: right;\n",
       "    }\n",
       "</style>\n",
       "<table border=\"1\" class=\"dataframe\">\n",
       "  <thead>\n",
       "    <tr style=\"text-align: right;\">\n",
       "      <th></th>\n",
       "      <th>order_id</th>\n",
       "      <th>order_item_id</th>\n",
       "      <th>product_id</th>\n",
       "      <th>seller_id</th>\n",
       "      <th>shipping_limit_date</th>\n",
       "      <th>price</th>\n",
       "      <th>freight_value</th>\n",
       "    </tr>\n",
       "  </thead>\n",
       "  <tbody>\n",
       "  </tbody>\n",
       "</table>\n",
       "</div>"
      ],
      "text/plain": [
       "Empty DataFrame\n",
       "Columns: [order_id, order_item_id, product_id, seller_id, shipping_limit_date, price, freight_value]\n",
       "Index: []"
      ]
     },
     "execution_count": 29,
     "metadata": {},
     "output_type": "execute_result"
    }
   ],
   "source": [
    "order_items.loc[order_items.duplicated()]"
   ]
  },
  {
   "cell_type": "markdown",
   "metadata": {},
   "source": [
    "# Как взаимосвязаны таблицы?\n",
    "\n",
    "Можно объединить по колонке **customer_id**\n",
    "- Таблицу 1 (olist_customers_datase.csv — таблица с уникальными идентификаторами пользователей)\n",
    "- и Таблица 2 (olist_orders_dataset.csv —  таблица заказов) \n",
    "\n",
    "Можно объединить по колонке **order_id**\n",
    "- Таблицу 2 (olist_orders_dataset.csv —  таблица заказов)\n",
    "- и Таблицу 3 (olist_order_items_dataset.csv —  товарные позиции, входящие в заказы)"
   ]
  },
  {
   "cell_type": "markdown",
   "metadata": {},
   "source": [
    "# Гипотеза для дальнейшего анализа: \n",
    "**Покупка** = это оплаченный заказ, т.е. order_id, у которого есть данные в столбце order_approved_at. \n",
    "\n",
    "Такой подход наиболее приемлим как с точки зрения покупателя (\"если я оплатил заказ, то для покупка уже для меня совершена и лишь жду доставку заказа\"), так и с точки зрения продавца (\"если поступила оплата, то по сути сделка уже заключена и у меня есть обязанность отдать покупателю оплаченное\")."
   ]
  },
  {
   "cell_type": "markdown",
   "metadata": {},
   "source": [
    "# Решение задач проекта"
   ]
  },
  {
   "cell_type": "markdown",
   "metadata": {},
   "source": [
    "# Задача 1.\n",
    "## Сколько у нас пользователей, которые совершили покупку только один раз?"
   ]
  },
  {
   "cell_type": "markdown",
   "metadata": {},
   "source": [
    "**Объединяем датафреймы customers и orders**"
   ]
  },
  {
   "cell_type": "code",
   "execution_count": 30,
   "metadata": {
    "tags": []
   },
   "outputs": [],
   "source": [
    "cust_and_orders = customers.merge(orders, on='customer_id')"
   ]
  },
  {
   "cell_type": "markdown",
   "metadata": {},
   "source": [
    "В датафрейме есть заказы, которые совершены разными клиентами, но оплачены они в одно и тоже время вплоть до секунды. Можем предположить, что в такие дни были какие-то акционные активности в интернет-магазине."
   ]
  },
  {
   "cell_type": "code",
   "execution_count": 32,
   "metadata": {
    "tags": []
   },
   "outputs": [
    {
     "data": {
      "text/html": [
       "<div>\n",
       "<style scoped>\n",
       "    .dataframe tbody tr th:only-of-type {\n",
       "        vertical-align: middle;\n",
       "    }\n",
       "\n",
       "    .dataframe tbody tr th {\n",
       "        vertical-align: top;\n",
       "    }\n",
       "\n",
       "    .dataframe thead th {\n",
       "        text-align: right;\n",
       "    }\n",
       "</style>\n",
       "<table border=\"1\" class=\"dataframe\">\n",
       "  <thead>\n",
       "    <tr style=\"text-align: right;\">\n",
       "      <th></th>\n",
       "      <th>order_approved_at</th>\n",
       "      <th>order_id</th>\n",
       "    </tr>\n",
       "  </thead>\n",
       "  <tbody>\n",
       "    <tr>\n",
       "      <th>55140</th>\n",
       "      <td>2018-02-27 04:31:10</td>\n",
       "      <td>9</td>\n",
       "    </tr>\n",
       "    <tr>\n",
       "      <th>50640</th>\n",
       "      <td>2018-02-06 05:31:52</td>\n",
       "      <td>7</td>\n",
       "    </tr>\n",
       "    <tr>\n",
       "      <th>80341</th>\n",
       "      <td>2018-07-05 16:33:01</td>\n",
       "      <td>7</td>\n",
       "    </tr>\n",
       "    <tr>\n",
       "      <th>31907</th>\n",
       "      <td>2017-11-07 07:30:38</td>\n",
       "      <td>7</td>\n",
       "    </tr>\n",
       "    <tr>\n",
       "      <th>55131</th>\n",
       "      <td>2018-02-27 04:31:01</td>\n",
       "      <td>7</td>\n",
       "    </tr>\n",
       "  </tbody>\n",
       "</table>\n",
       "</div>"
      ],
      "text/plain": [
       "        order_approved_at  order_id\n",
       "55140 2018-02-27 04:31:10         9\n",
       "50640 2018-02-06 05:31:52         7\n",
       "80341 2018-07-05 16:33:01         7\n",
       "31907 2017-11-07 07:30:38         7\n",
       "55131 2018-02-27 04:31:01         7"
      ]
     },
     "execution_count": 32,
     "metadata": {},
     "output_type": "execute_result"
    }
   ],
   "source": [
    "test_pay = cust_and_orders.loc[cust_and_orders.order_approved_at.notna()] \\\n",
    "    .groupby('order_approved_at', as_index=False) \\\n",
    "    .order_id.nunique() \\\n",
    "    .sort_values(\"order_id\", ascending=False) \\\n",
    "    .query(\"order_id > 1\")\n",
    "test_pay.head()"
   ]
  },
  {
   "cell_type": "code",
   "execution_count": 34,
   "metadata": {
    "tags": []
   },
   "outputs": [
    {
     "data": {
      "text/html": [
       "<div>\n",
       "<style scoped>\n",
       "    .dataframe tbody tr th:only-of-type {\n",
       "        vertical-align: middle;\n",
       "    }\n",
       "\n",
       "    .dataframe tbody tr th {\n",
       "        vertical-align: top;\n",
       "    }\n",
       "\n",
       "    .dataframe thead th {\n",
       "        text-align: right;\n",
       "    }\n",
       "</style>\n",
       "<table border=\"1\" class=\"dataframe\">\n",
       "  <thead>\n",
       "    <tr style=\"text-align: right;\">\n",
       "      <th></th>\n",
       "      <th>customer_id</th>\n",
       "      <th>customer_unique_id</th>\n",
       "      <th>customer_zip_code_prefix</th>\n",
       "      <th>customer_city</th>\n",
       "      <th>customer_state</th>\n",
       "      <th>order_id</th>\n",
       "      <th>order_status</th>\n",
       "      <th>order_purchase_timestamp</th>\n",
       "      <th>order_approved_at</th>\n",
       "      <th>order_delivered_carrier_date</th>\n",
       "      <th>order_delivered_customer_date</th>\n",
       "      <th>order_estimated_delivery_date</th>\n",
       "    </tr>\n",
       "  </thead>\n",
       "  <tbody>\n",
       "    <tr>\n",
       "      <th>1362</th>\n",
       "      <td>88a98577c0d60c958eaaab2bf1e57f2b</td>\n",
       "      <td>5f906880e2ce13b655bd34d324a48ea9</td>\n",
       "      <td>11930</td>\n",
       "      <td>pariquera-acu</td>\n",
       "      <td>SP</td>\n",
       "      <td>bedc87ce363e6bf8c8868b96b2213ae4</td>\n",
       "      <td>delivered</td>\n",
       "      <td>2018-02-24 22:09:13</td>\n",
       "      <td>2018-02-27 04:31:10</td>\n",
       "      <td>2018-02-28 17:49:01</td>\n",
       "      <td>2018-03-09 00:58:29</td>\n",
       "      <td>2018-03-23</td>\n",
       "    </tr>\n",
       "    <tr>\n",
       "      <th>4382</th>\n",
       "      <td>c77b423508bc56bde329f75c4e98f0db</td>\n",
       "      <td>15ac1685a52aa0fbf422e00a8e0d7498</td>\n",
       "      <td>36350</td>\n",
       "      <td>sao tiago</td>\n",
       "      <td>MG</td>\n",
       "      <td>3ead4ba601979178b8073243e9878d9e</td>\n",
       "      <td>delivered</td>\n",
       "      <td>2018-02-25 09:05:13</td>\n",
       "      <td>2018-02-27 04:31:10</td>\n",
       "      <td>2018-03-01 00:45:07</td>\n",
       "      <td>2018-03-12 22:18:48</td>\n",
       "      <td>2018-03-21</td>\n",
       "    </tr>\n",
       "    <tr>\n",
       "      <th>15500</th>\n",
       "      <td>413af08c0a0b10c69e1948e72debe635</td>\n",
       "      <td>9d91708dc08dfd1ca50eef5698276fce</td>\n",
       "      <td>6626</td>\n",
       "      <td>jandira</td>\n",
       "      <td>SP</td>\n",
       "      <td>7754339dd17ecab14c20d6c51a7dd0f7</td>\n",
       "      <td>delivered</td>\n",
       "      <td>2018-02-25 11:56:11</td>\n",
       "      <td>2018-02-27 04:31:10</td>\n",
       "      <td>2018-02-28 19:54:59</td>\n",
       "      <td>2018-03-08 17:53:34</td>\n",
       "      <td>2018-03-13</td>\n",
       "    </tr>\n",
       "    <tr>\n",
       "      <th>24150</th>\n",
       "      <td>76f918396bc39bf619c74a1342f31368</td>\n",
       "      <td>5700e3ffb7f0709a625b50dc0f0a3324</td>\n",
       "      <td>29135</td>\n",
       "      <td>viana</td>\n",
       "      <td>ES</td>\n",
       "      <td>8d4defaad3d1206dde5189a813b794f2</td>\n",
       "      <td>delivered</td>\n",
       "      <td>2018-02-24 16:03:38</td>\n",
       "      <td>2018-02-27 04:31:10</td>\n",
       "      <td>2018-03-02 00:56:49</td>\n",
       "      <td>2018-03-23 19:46:36</td>\n",
       "      <td>2018-03-21</td>\n",
       "    </tr>\n",
       "    <tr>\n",
       "      <th>35908</th>\n",
       "      <td>878dfb736721aa20ea2d1a0c96e470d1</td>\n",
       "      <td>c62c2750a01ad7d2ebacdfcc17717a1c</td>\n",
       "      <td>22631</td>\n",
       "      <td>rio de janeiro</td>\n",
       "      <td>RJ</td>\n",
       "      <td>5687858ec96eba8c66c04d8a08ff4e42</td>\n",
       "      <td>delivered</td>\n",
       "      <td>2018-02-25 11:24:39</td>\n",
       "      <td>2018-02-27 04:31:10</td>\n",
       "      <td>2018-03-01 14:19:06</td>\n",
       "      <td>2018-05-03 00:48:41</td>\n",
       "      <td>2018-03-21</td>\n",
       "    </tr>\n",
       "  </tbody>\n",
       "</table>\n",
       "</div>"
      ],
      "text/plain": [
       "                            customer_id                customer_unique_id  \\\n",
       "1362   88a98577c0d60c958eaaab2bf1e57f2b  5f906880e2ce13b655bd34d324a48ea9   \n",
       "4382   c77b423508bc56bde329f75c4e98f0db  15ac1685a52aa0fbf422e00a8e0d7498   \n",
       "15500  413af08c0a0b10c69e1948e72debe635  9d91708dc08dfd1ca50eef5698276fce   \n",
       "24150  76f918396bc39bf619c74a1342f31368  5700e3ffb7f0709a625b50dc0f0a3324   \n",
       "35908  878dfb736721aa20ea2d1a0c96e470d1  c62c2750a01ad7d2ebacdfcc17717a1c   \n",
       "\n",
       "       customer_zip_code_prefix   customer_city customer_state  \\\n",
       "1362                      11930   pariquera-acu             SP   \n",
       "4382                      36350       sao tiago             MG   \n",
       "15500                      6626         jandira             SP   \n",
       "24150                     29135           viana             ES   \n",
       "35908                     22631  rio de janeiro             RJ   \n",
       "\n",
       "                               order_id order_status order_purchase_timestamp  \\\n",
       "1362   bedc87ce363e6bf8c8868b96b2213ae4    delivered      2018-02-24 22:09:13   \n",
       "4382   3ead4ba601979178b8073243e9878d9e    delivered      2018-02-25 09:05:13   \n",
       "15500  7754339dd17ecab14c20d6c51a7dd0f7    delivered      2018-02-25 11:56:11   \n",
       "24150  8d4defaad3d1206dde5189a813b794f2    delivered      2018-02-24 16:03:38   \n",
       "35908  5687858ec96eba8c66c04d8a08ff4e42    delivered      2018-02-25 11:24:39   \n",
       "\n",
       "        order_approved_at order_delivered_carrier_date  \\\n",
       "1362  2018-02-27 04:31:10          2018-02-28 17:49:01   \n",
       "4382  2018-02-27 04:31:10          2018-03-01 00:45:07   \n",
       "15500 2018-02-27 04:31:10          2018-02-28 19:54:59   \n",
       "24150 2018-02-27 04:31:10          2018-03-02 00:56:49   \n",
       "35908 2018-02-27 04:31:10          2018-03-01 14:19:06   \n",
       "\n",
       "      order_delivered_customer_date order_estimated_delivery_date  \n",
       "1362            2018-03-09 00:58:29                    2018-03-23  \n",
       "4382            2018-03-12 22:18:48                    2018-03-21  \n",
       "15500           2018-03-08 17:53:34                    2018-03-13  \n",
       "24150           2018-03-23 19:46:36                    2018-03-21  \n",
       "35908           2018-05-03 00:48:41                    2018-03-21  "
      ]
     },
     "execution_count": 34,
     "metadata": {},
     "output_type": "execute_result"
    }
   ],
   "source": [
    "cust_and_orders.query(\"order_approved_at == '2018-02-27 04:31:10'\").head()"
   ]
  },
  {
   "cell_type": "markdown",
   "metadata": {},
   "source": [
    "**Вариант решения 1 задачи 1**\n",
    "\n",
    "Считаем пользователей, которые совершили покупку только один раз.\n",
    "\n",
    "Cчитать будем по количеству строчек в столбце order_approved_at, т.к. мы уже выяснили, что для разных заказов дата оплаты может повторяться."
   ]
  },
  {
   "cell_type": "code",
   "execution_count": 35,
   "metadata": {
    "tags": []
   },
   "outputs": [],
   "source": [
    "one_time_buyers = cust_and_orders.loc[cust_and_orders.order_approved_at.notna()] \\\n",
    "    .groupby('customer_unique_id', as_index=False) \\\n",
    "    .order_approved_at.count() \\\n",
    "    .rename(columns={'order_approved_at' : 'quantity_one_time_buyers'}) \\\n",
    "    .query(\"quantity_one_time_buyers == 1\") \\\n",
    "    .quantity_one_time_buyers.count()\n",
    "\n",
    "one_time_buyers_quantity = f'{one_time_buyers} пользователей совершили покупку только один раз'"
   ]
  },
  {
   "cell_type": "code",
   "execution_count": 36,
   "metadata": {
    "tags": []
   },
   "outputs": [
    {
     "name": "stdout",
     "output_type": "stream",
     "text": [
      "93049 пользователей совершили покупку только один раз\n"
     ]
    }
   ],
   "source": [
    "print(one_time_buyers_quantity) "
   ]
  },
  {
   "cell_type": "markdown",
   "metadata": {},
   "source": [
    "**Вариант решения 2 задачи 1**\n",
    "\n",
    "Считаем пользователей, которые совершили покупку только один раз\n",
    "\n",
    "Считать будем по количеству уникальных значений в столбце order_id."
   ]
  },
  {
   "cell_type": "code",
   "execution_count": 37,
   "metadata": {
    "tags": []
   },
   "outputs": [],
   "source": [
    "one_time_buyers = cust_and_orders.loc[cust_and_orders.order_approved_at.notna()] \\\n",
    "    .groupby('customer_unique_id', as_index=False) \\\n",
    "    .order_id.nunique() \\\n",
    "    .rename(columns={'order_id' : 'quantity_one_time_buyers'}) \\\n",
    "    .query(\"quantity_one_time_buyers == 1\") \\\n",
    "    .quantity_one_time_buyers.count()\n",
    "\n",
    "one_time_buyers_quantity = f'{one_time_buyers} пользователей совершили покупку только один раз'"
   ]
  },
  {
   "cell_type": "code",
   "execution_count": 38,
   "metadata": {
    "tags": []
   },
   "outputs": [
    {
     "name": "stdout",
     "output_type": "stream",
     "text": [
      "93049 пользователей совершили покупку только один раз\n"
     ]
    }
   ],
   "source": [
    "print(one_time_buyers_quantity) "
   ]
  },
  {
   "cell_type": "markdown",
   "metadata": {},
   "source": [
    "## Ответ по задаче 1. \n",
    "Расчетано количество пользователей совершили покупку только один раз - **93049** "
   ]
  },
  {
   "cell_type": "markdown",
   "metadata": {},
   "source": [
    "# Задача 2. \n",
    "## Сколько заказов в месяц в среднем не доставляется по разным причинам (вывести детализацию по причинам)?"
   ]
  },
  {
   "cell_type": "markdown",
   "metadata": {},
   "source": [
    "Считаем, что, если товар оплачен клиентом, то он априори должен быть:\n",
    "- доставлен\n",
    "- и при этом доставка осуществлена в обещенный клиенту срок\n",
    "\n",
    "Из этого мы делаем вывод о том, что отсутствием доставки будут считаться следующие случаи: \n",
    "- заказ не доставлен вовсе\n",
    "- заказ не доставлен ко времени, которое было обещано клиенту.\n",
    "\n",
    "# Случаи, когда заказы не доставились вовсе\n",
    "**1) отмена заказа клиентом на стадии сборки заказа**\n",
    "- order_status == canceled & order_approved_at.notna() & order_delivered_carrier_date.isna() & order_delivered_customer_date.isna()\n",
    "\n",
    "**2) заказ не доступен**\n",
    "- order_status == unavailable\n",
    "        \n",
    "**3) отмена заказа клиентом на стадии доставки заказа**\n",
    "- order_status == canceled & order_approved_at.notna() & order_delivered_carrier_date.notna() & order_delivered_customer_date.isna()\n",
    "\n",
    "# Случаи, когда заказы доставлены, но с опозданием\n",
    "**4) опоздание доставки к обещанному сроку по вине лог.службы**\n",
    "Т.е. товар доставлен позже, чем обещенная дата доставки, но при этом склад интернет-магазина передал собранный заказ партнеру по логистике не позднее обозначенного срока, указанного в столбце shipping_limit_date\n",
    "- order_delivered_customer_date > order_estimated_delivery_date & order_delivered_carrier_date < shipping_limit_date\n",
    "        \n",
    "**5) опоздание доставки к обещенному сроку по вине интернет-магазина**\n",
    "Т.е. товар доставлен позже, чем обещенная дата доставки потому, что склад интернет-магазина передал собранный заказ партнеру по логистике позднее обозначенного срока, указанного в столбце shipping_limit_date\n",
    "- order_delivered_customer_date > order_estimated_delivery_date & order_delivered_carrier_date > shipping_limit_date\n",
    "\n",
    "Месяцем, когда доставка не произошла, будет считаться месяц, указанный в столбце order_estimated_delivery_date (обещанная дата доставки)"
   ]
  },
  {
   "cell_type": "markdown",
   "metadata": {},
   "source": [
    "1) Считаем количество недоставленных заказов по причине отменены клиентами на стадии сборки заказа на складе до передачи в лог.службу:"
   ]
  },
  {
   "cell_type": "code",
   "execution_count": 39,
   "metadata": {
    "tags": []
   },
   "outputs": [],
   "source": [
    "reason_1 = orders.loc[(orders.order_status == 'canceled') & \n",
    "                      (orders.order_approved_at.notna()) & \n",
    "                      (orders.order_delivered_carrier_date.isna()) & \n",
    "                      (orders.order_delivered_customer_date.isna())]\n",
    "\n",
    "reason_1[\"year_month\"] = reason_1[\"order_estimated_delivery_date\"].dt.to_period(\"M\")\n",
    "\n",
    "reason_1_month = reason_1.groupby('year_month', as_index=False) \\\n",
    "    .agg({\"order_id\" : \"count\"}) \\\n",
    "    .rename(columns={\"order_id\" : \"Отмена сборки заказа\"})"
   ]
  },
  {
   "cell_type": "markdown",
   "metadata": {},
   "source": [
    "2) Считаем количество недоставленных заказов по причине недоступности для клиентов:"
   ]
  },
  {
   "cell_type": "code",
   "execution_count": 40,
   "metadata": {
    "tags": []
   },
   "outputs": [],
   "source": [
    "reason_2 = orders.loc[(orders.order_status == 'unavailable')]\n",
    "\n",
    "reason_2[\"year_month\"] = reason_2[\"order_estimated_delivery_date\"].dt.to_period(\"M\")\n",
    "\n",
    "reason_2_month = reason_2.groupby('year_month', as_index=False) \\\n",
    "    .agg({\"order_id\" : \"count\"}) \\\n",
    "    .rename(columns={\"order_id\" : \"Заказ недоступен\"})"
   ]
  },
  {
   "cell_type": "markdown",
   "metadata": {},
   "source": [
    "3) Считаем количество недоставленных заказов по причине отменены клиентами заказов на стадии доставки:"
   ]
  },
  {
   "cell_type": "code",
   "execution_count": 41,
   "metadata": {
    "tags": []
   },
   "outputs": [],
   "source": [
    "reason_3 = orders.loc[(orders.order_status == 'canceled') & \n",
    "                      (orders.order_approved_at.notna()) & \n",
    "                      (orders.order_delivered_carrier_date.notna()) & \n",
    "                      (orders.order_delivered_customer_date.isna())]\n",
    "\n",
    "reason_3[\"year_month\"] = reason_3[\"order_estimated_delivery_date\"].dt.to_period(\"M\")\n",
    "\n",
    "reason_3_month = reason_3.groupby('year_month', as_index=False) \\\n",
    "    .agg({\"order_id\" : \"count\"}) \\\n",
    "    .rename(columns={\"order_id\" : \"Отмена доставки\"})"
   ]
  },
  {
   "cell_type": "markdown",
   "metadata": {},
   "source": [
    "4) Считаем количество недоставленных заказов по причине опоздания доставки к обещанному сроку по вине лог.службы:"
   ]
  },
  {
   "cell_type": "code",
   "execution_count": 42,
   "metadata": {
    "tags": []
   },
   "outputs": [],
   "source": [
    "orders_big_data = orders.merge(order_items, how=\"left\", on=\"order_id\")\n",
    "\n",
    "reason_4 = orders_big_data.loc[(orders_big_data.order_delivered_customer_date > orders_big_data.order_estimated_delivery_date) &\n",
    "                               (orders_big_data.order_delivered_carrier_date < orders_big_data.shipping_limit_date)]\n",
    "\n",
    "reason_4[\"year_month\"] = reason_4[\"order_estimated_delivery_date\"].dt.to_period(\"M\")\n",
    "\n",
    "reason_4_month = reason_4.groupby('year_month', as_index=False) \\\n",
    "    .order_id.nunique() \\\n",
    "    .rename(columns={\"order_id\" : \"Опоздание доставки\"})"
   ]
  },
  {
   "cell_type": "markdown",
   "metadata": {},
   "source": [
    "5) Считаем количество недоставленных заказов по причне опоздания доставки к обещенному сроку из-за задержки передачи магазином собранного заказа в лог.службу:"
   ]
  },
  {
   "cell_type": "code",
   "execution_count": 43,
   "metadata": {
    "scrolled": true,
    "tags": []
   },
   "outputs": [],
   "source": [
    "reason_5 = orders_big_data.loc[(orders_big_data.order_delivered_customer_date > orders_big_data.order_estimated_delivery_date) &\n",
    "                               (orders_big_data.order_delivered_carrier_date > orders_big_data.shipping_limit_date)]\n",
    "\n",
    "reason_5[\"year_month\"] = reason_5[\"order_estimated_delivery_date\"].dt.to_period(\"M\")\n",
    "\n",
    "reason_5_month = reason_5.groupby('year_month', as_index=False) \\\n",
    "    .order_id.nunique() \\\n",
    "    .rename(columns={\"order_id\" : \"Задержка сборки заказа\"})"
   ]
  },
  {
   "cell_type": "markdown",
   "metadata": {},
   "source": [
    "**Объединяем все датафреймы с данными о причинах не случившихся доставок товара**"
   ]
  },
  {
   "cell_type": "code",
   "execution_count": 44,
   "metadata": {
    "tags": []
   },
   "outputs": [],
   "source": [
    "all_reasons = reason_1_month.merge(reason_2_month, how=\"left\", on=\"year_month\") \\\n",
    "    .merge(reason_3_month, how=\"left\", on=\"year_month\") \\\n",
    "    .merge(reason_4_month, how=\"left\", on=\"year_month\") \\\n",
    "    .merge(reason_5_month, how=\"left\", on=\"year_month\")"
   ]
  },
  {
   "cell_type": "markdown",
   "metadata": {},
   "source": [
    "Разворачиваем датафрейм для более удобной обработки"
   ]
  },
  {
   "cell_type": "code",
   "execution_count": 45,
   "metadata": {
    "tags": []
   },
   "outputs": [],
   "source": [
    "pivot = all_reasons.melt(id_vars=['year_month'], \n",
    "                         value_vars=[\"Отмена сборки заказа\", \n",
    "                                     \"Заказ недоступен\", \n",
    "                                     \"Отмена доставки\", \n",
    "                                     \"Опоздание доставки\", \n",
    "                                     \"Задержка сборки заказа\"])"
   ]
  },
  {
   "cell_type": "markdown",
   "metadata": {},
   "source": [
    "**Считаем сколько заказов в месяц в среднем не доставляется по разным причинам с детализацией по причинам**"
   ]
  },
  {
   "cell_type": "code",
   "execution_count": 46,
   "metadata": {
    "scrolled": true,
    "tags": []
   },
   "outputs": [
    {
     "data": {
      "text/html": [
       "<div>\n",
       "<style scoped>\n",
       "    .dataframe tbody tr th:only-of-type {\n",
       "        vertical-align: middle;\n",
       "    }\n",
       "\n",
       "    .dataframe tbody tr th {\n",
       "        vertical-align: top;\n",
       "    }\n",
       "\n",
       "    .dataframe thead th {\n",
       "        text-align: right;\n",
       "    }\n",
       "</style>\n",
       "<table border=\"1\" class=\"dataframe\">\n",
       "  <thead>\n",
       "    <tr style=\"text-align: right;\">\n",
       "      <th></th>\n",
       "      <th>Причины, по которым в среднем ежемесячно не доставлялись товары</th>\n",
       "      <th>Недоставленные заказы</th>\n",
       "    </tr>\n",
       "  </thead>\n",
       "  <tbody>\n",
       "    <tr>\n",
       "      <th>2</th>\n",
       "      <td>Опоздание доставки</td>\n",
       "      <td>300.0</td>\n",
       "    </tr>\n",
       "    <tr>\n",
       "      <th>0</th>\n",
       "      <td>Задержка сборки заказа</td>\n",
       "      <td>97.0</td>\n",
       "    </tr>\n",
       "    <tr>\n",
       "      <th>3</th>\n",
       "      <td>Отмена доставки</td>\n",
       "      <td>34.0</td>\n",
       "    </tr>\n",
       "    <tr>\n",
       "      <th>1</th>\n",
       "      <td>Заказ недоступен</td>\n",
       "      <td>29.0</td>\n",
       "    </tr>\n",
       "    <tr>\n",
       "      <th>4</th>\n",
       "      <td>Отмена сборки заказа</td>\n",
       "      <td>18.0</td>\n",
       "    </tr>\n",
       "  </tbody>\n",
       "</table>\n",
       "</div>"
      ],
      "text/plain": [
       "  Причины, по которым в среднем ежемесячно не доставлялись товары  \\\n",
       "2                                 Опоздание доставки                \n",
       "0                             Задержка сборки заказа                \n",
       "3                                    Отмена доставки                \n",
       "1                                   Заказ недоступен                \n",
       "4                               Отмена сборки заказа                \n",
       "\n",
       "   Недоставленные заказы  \n",
       "2                  300.0  \n",
       "0                   97.0  \n",
       "3                   34.0  \n",
       "1                   29.0  \n",
       "4                   18.0  "
      ]
     },
     "execution_count": 46,
     "metadata": {},
     "output_type": "execute_result"
    }
   ],
   "source": [
    "mean_month = pivot.groupby([\"variable\"], as_index=False) \\\n",
    "    .agg({\"value\" : \"mean\"}) \\\n",
    "    .sort_values('value', ascending=False).round(0) \\\n",
    "    .rename(columns={\"variable\" : \"Причины, по которым в среднем ежемесячно не доставлялись товары\", \n",
    "                     \"value\" : \"Недоставленные заказы\"})\n",
    "\n",
    "mean_month"
   ]
  },
  {
   "cell_type": "code",
   "execution_count": 86,
   "metadata": {
    "tags": []
   },
   "outputs": [
    {
     "data": {
      "image/png": "[encoded data removed]",
      "text/plain": [
       "<Figure size 1800x800 with 1 Axes>"
      ]
     },
     "metadata": {},
     "output_type": "display_data"
    }
   ],
   "source": [
    "ax = sns.barplot(data=mean_month,\n",
    "            y=\"Причины, по которым в среднем ежемесячно не доставлялись товары\", \n",
    "            x=\"Недоставленные заказы\")\n",
    "\n",
    "ax.bar_label(ax.containers[0])\n",
    "\n",
    "ax.set_ylabel('Причины недоставки заказов')\n",
    "ax.set_xlabel('Серднее количество недоставленных заказов ежемесячно')\n",
    "ax.set_title('Опоздание доставки - в среднем ежемесячно самая распространенная причина недоставок заказов\\n', fontsize=20)\n",
    "sns.despine()  # убрать часть рамки графика\n",
    "plt.show()"
   ]
  },
  {
   "cell_type": "markdown",
   "metadata": {},
   "source": [
    "## Ответ по задаче 2. \n",
    "**Сформирован график** с расчетом среднего количества заказов в месяц в среднем, которые не доставляются по разным причинам с детализацией по причинам "
   ]
  },
  {
   "cell_type": "markdown",
   "metadata": {},
   "source": [
    "# Задача 3. \n",
    "# По каждому товару определить, в какой день недели товар чаще всего покупается."
   ]
  },
  {
   "cell_type": "markdown",
   "metadata": {},
   "source": [
    "Объединяем датафреймы orders и order_items"
   ]
  },
  {
   "cell_type": "code",
   "execution_count": 48,
   "metadata": {
    "tags": []
   },
   "outputs": [],
   "source": [
    "sales = orders.merge(order_items, how=\"left\", on=\"order_id\")"
   ]
  },
  {
   "cell_type": "markdown",
   "metadata": {},
   "source": [
    "Добавляем в объединенный датафрейм столбец с наименованием дня недели, когда произошла продажа товара"
   ]
  },
  {
   "cell_type": "code",
   "execution_count": 49,
   "metadata": {
    "tags": []
   },
   "outputs": [],
   "source": [
    "sales['sales_day'] = sales['order_approved_at'].dt.day_name()"
   ]
  },
  {
   "cell_type": "markdown",
   "metadata": {},
   "source": [
    "Фильтруем датафрейм по наличию данных о дате оплаты"
   ]
  },
  {
   "cell_type": "code",
   "execution_count": 50,
   "metadata": {
    "tags": []
   },
   "outputs": [],
   "source": [
    "sales = sales.loc[sales.order_approved_at.notna()]"
   ]
  },
  {
   "cell_type": "markdown",
   "metadata": {},
   "source": [
    "Формируем данные для каждого проданного товара информацию о дне недели, когда он продавался чаще всего"
   ]
  },
  {
   "cell_type": "code",
   "execution_count": 52,
   "metadata": {
    "scrolled": true,
    "tags": []
   },
   "outputs": [
    {
     "data": {
      "text/html": [
       "<div>\n",
       "<style scoped>\n",
       "    .dataframe tbody tr th:only-of-type {\n",
       "        vertical-align: middle;\n",
       "    }\n",
       "\n",
       "    .dataframe tbody tr th {\n",
       "        vertical-align: top;\n",
       "    }\n",
       "\n",
       "    .dataframe thead th {\n",
       "        text-align: right;\n",
       "    }\n",
       "</style>\n",
       "<table border=\"1\" class=\"dataframe\">\n",
       "  <thead>\n",
       "    <tr style=\"text-align: right;\">\n",
       "      <th></th>\n",
       "      <th>ID товара</th>\n",
       "      <th>Самый частый день продажи</th>\n",
       "      <th>Количество продаж</th>\n",
       "    </tr>\n",
       "  </thead>\n",
       "  <tbody>\n",
       "    <tr>\n",
       "      <th>22110</th>\n",
       "      <td>aca2eb7d00ea1a7b8ebd4e68314663af</td>\n",
       "      <td>Tuesday</td>\n",
       "      <td>97</td>\n",
       "    </tr>\n",
       "    <tr>\n",
       "      <th>10865</th>\n",
       "      <td>53b36df67ebb7c41585e8d54d6772e08</td>\n",
       "      <td>Tuesday</td>\n",
       "      <td>97</td>\n",
       "    </tr>\n",
       "    <tr>\n",
       "      <th>19740</th>\n",
       "      <td>99a4788cb24856965c36a24e339b6058</td>\n",
       "      <td>Tuesday</td>\n",
       "      <td>78</td>\n",
       "    </tr>\n",
       "    <tr>\n",
       "      <th>8612</th>\n",
       "      <td>422879e10f46682990de24d770e7f83d</td>\n",
       "      <td>Tuesday</td>\n",
       "      <td>71</td>\n",
       "    </tr>\n",
       "    <tr>\n",
       "      <th>7363</th>\n",
       "      <td>389d119b48cf3043d311335e499d9c6b</td>\n",
       "      <td>Tuesday</td>\n",
       "      <td>61</td>\n",
       "    </tr>\n",
       "  </tbody>\n",
       "</table>\n",
       "</div>"
      ],
      "text/plain": [
       "                              ID товара Самый частый день продажи  \\\n",
       "22110  aca2eb7d00ea1a7b8ebd4e68314663af                   Tuesday   \n",
       "10865  53b36df67ebb7c41585e8d54d6772e08                   Tuesday   \n",
       "19740  99a4788cb24856965c36a24e339b6058                   Tuesday   \n",
       "8612   422879e10f46682990de24d770e7f83d                   Tuesday   \n",
       "7363   389d119b48cf3043d311335e499d9c6b                   Tuesday   \n",
       "\n",
       "       Количество продаж  \n",
       "22110                 97  \n",
       "10865                 97  \n",
       "19740                 78  \n",
       "8612                  71  \n",
       "7363                  61  "
      ]
     },
     "execution_count": 52,
     "metadata": {},
     "output_type": "execute_result"
    }
   ],
   "source": [
    "sales_days = sales.groupby([\"product_id\", \"sales_day\"], as_index=False) \\\n",
    "    .order_id.nunique() \\\n",
    "    .sort_values(\"order_id\", ascending=False) \\\n",
    "    .groupby(\"product_id\", as_index=False).first() \\\n",
    "    .sort_values(\"order_id\", ascending=False) \\\n",
    "    .rename(columns={\"product_id\" : \"ID товара\", \"sales_day\" : \"Самый частый день продажи\", \"order_id\" : \"Количество продаж\"})\n",
    "\n",
    "sales_days.head()"
   ]
  },
  {
   "cell_type": "markdown",
   "metadata": {},
   "source": [
    "## Ответ по задаче 3. \n",
    "**Сформирован датафрейм** с расчетом дня недели, в который чаще всего покупается товар "
   ]
  },
  {
   "cell_type": "markdown",
   "metadata": {},
   "source": [
    "# Задача 4. \n",
    "## Сколько у каждого из пользователей в среднем покупок в неделю (по месяцам)?"
   ]
  },
  {
   "cell_type": "markdown",
   "metadata": {},
   "source": [
    "Объединяем все три датафрейма в один и фильтруем его по наличию данных о дате оплаты"
   ]
  },
  {
   "cell_type": "code",
   "execution_count": 53,
   "metadata": {
    "tags": []
   },
   "outputs": [],
   "source": [
    "all_tables = customers \\\n",
    "    .merge(orders, how=\"left\", on='customer_id') \\\n",
    "    .merge(order_items, how=\"left\", on=\"order_id\") \n",
    "\n",
    "all_tables = all_tables.loc[all_tables.order_approved_at.notna()]"
   ]
  },
  {
   "cell_type": "markdown",
   "metadata": {},
   "source": [
    "Добавляем в объединенный датафрейм столбец с годом и месяцем покупки по каждому заказу"
   ]
  },
  {
   "cell_type": "code",
   "execution_count": 54,
   "metadata": {
    "tags": []
   },
   "outputs": [],
   "source": [
    "all_tables[\"year_month_purchases\"] = all_tables[\"order_approved_at\"].dt.to_period(\"M\")"
   ]
  },
  {
   "cell_type": "markdown",
   "metadata": {},
   "source": [
    "Вычисляем количество недель в каждом месяце соотвествующего года"
   ]
  },
  {
   "cell_type": "code",
   "execution_count": 55,
   "metadata": {
    "tags": []
   },
   "outputs": [],
   "source": [
    "all_tables['weeks_on_month'] = (all_tables['order_approved_at'].dt.daysinmonth / 7).round(2)"
   ]
  },
  {
   "cell_type": "markdown",
   "metadata": {},
   "source": [
    "Считаем количество покупок у каждого пользователя в среднем в неделю по месяцам соотвествующих годов "
   ]
  },
  {
   "cell_type": "code",
   "execution_count": 56,
   "metadata": {
    "tags": []
   },
   "outputs": [],
   "source": [
    "purchases = all_tables.groupby(['customer_unique_id', 'year_month_purchases', 'weeks_on_month'], as_index=False) \\\n",
    "    .order_id.nunique()\n",
    "\n",
    "purchases = purchases \\\n",
    "    .assign(purchases_weekly = (purchases['order_id'] / purchases['weeks_on_month']).round(2)) \\\n",
    "    .sort_values(['customer_unique_id', 'year_month_purchases']) \\\n",
    "    .rename(columns={\"customer_unique_id\" : \"Уникальный пользователь (УП)\",\n",
    "                     \"year_month_purchases\" : \"Год и месяц покупок УП\", \n",
    "                     \"weeks_on_month\" : \"Недель в месяце\", \n",
    "                     \"order_id\" : \"Всего покупок УП в месяце\", \n",
    "                     \"purchases_weekly\" : \"Покупок УП в среднем за одну неделю месяца\"})"
   ]
  },
  {
   "cell_type": "code",
   "execution_count": 59,
   "metadata": {
    "tags": []
   },
   "outputs": [
    {
     "data": {
      "text/html": [
       "<div>\n",
       "<style scoped>\n",
       "    .dataframe tbody tr th:only-of-type {\n",
       "        vertical-align: middle;\n",
       "    }\n",
       "\n",
       "    .dataframe tbody tr th {\n",
       "        vertical-align: top;\n",
       "    }\n",
       "\n",
       "    .dataframe thead th {\n",
       "        text-align: right;\n",
       "    }\n",
       "</style>\n",
       "<table border=\"1\" class=\"dataframe\">\n",
       "  <thead>\n",
       "    <tr style=\"text-align: right;\">\n",
       "      <th></th>\n",
       "      <th>Уникальный пользователь (УП)</th>\n",
       "      <th>Год и месяц покупок УП</th>\n",
       "      <th>Недель в месяце</th>\n",
       "      <th>Всего покупок УП в месяце</th>\n",
       "      <th>Покупок УП в среднем за одну неделю месяца</th>\n",
       "    </tr>\n",
       "  </thead>\n",
       "  <tbody>\n",
       "    <tr>\n",
       "      <th>0</th>\n",
       "      <td>0000366f3b9a7992bf8c76cfdf3221e2</td>\n",
       "      <td>2018-05</td>\n",
       "      <td>4.43</td>\n",
       "      <td>1</td>\n",
       "      <td>0.23</td>\n",
       "    </tr>\n",
       "    <tr>\n",
       "      <th>1</th>\n",
       "      <td>0000b849f77a49e4a4ce2b2a4ca5be3f</td>\n",
       "      <td>2018-05</td>\n",
       "      <td>4.43</td>\n",
       "      <td>1</td>\n",
       "      <td>0.23</td>\n",
       "    </tr>\n",
       "    <tr>\n",
       "      <th>2</th>\n",
       "      <td>0000f46a3911fa3c0805444483337064</td>\n",
       "      <td>2017-03</td>\n",
       "      <td>4.43</td>\n",
       "      <td>1</td>\n",
       "      <td>0.23</td>\n",
       "    </tr>\n",
       "    <tr>\n",
       "      <th>3</th>\n",
       "      <td>0000f6ccb0745a6a4b88665a16c9f078</td>\n",
       "      <td>2017-10</td>\n",
       "      <td>4.43</td>\n",
       "      <td>1</td>\n",
       "      <td>0.23</td>\n",
       "    </tr>\n",
       "    <tr>\n",
       "      <th>4</th>\n",
       "      <td>0004aac84e0df4da2b147fca70cf8255</td>\n",
       "      <td>2017-11</td>\n",
       "      <td>4.29</td>\n",
       "      <td>1</td>\n",
       "      <td>0.23</td>\n",
       "    </tr>\n",
       "  </tbody>\n",
       "</table>\n",
       "</div>"
      ],
      "text/plain": [
       "       Уникальный пользователь (УП) Год и месяц покупок УП  Недель в месяце  \\\n",
       "0  0000366f3b9a7992bf8c76cfdf3221e2                2018-05             4.43   \n",
       "1  0000b849f77a49e4a4ce2b2a4ca5be3f                2018-05             4.43   \n",
       "2  0000f46a3911fa3c0805444483337064                2017-03             4.43   \n",
       "3  0000f6ccb0745a6a4b88665a16c9f078                2017-10             4.43   \n",
       "4  0004aac84e0df4da2b147fca70cf8255                2017-11             4.29   \n",
       "\n",
       "   Всего покупок УП в месяце  Покупок УП в среднем за одну неделю месяца  \n",
       "0                          1                                        0.23  \n",
       "1                          1                                        0.23  \n",
       "2                          1                                        0.23  \n",
       "3                          1                                        0.23  \n",
       "4                          1                                        0.23  "
      ]
     },
     "execution_count": 59,
     "metadata": {},
     "output_type": "execute_result"
    }
   ],
   "source": [
    "purchases.head()"
   ]
  },
  {
   "cell_type": "markdown",
   "metadata": {},
   "source": [
    "Проверим, какие клиенты и в какие месяцы имели не менее одной покупки в неделю "
   ]
  },
  {
   "cell_type": "code",
   "execution_count": 60,
   "metadata": {
    "tags": []
   },
   "outputs": [
    {
     "data": {
      "text/html": [
       "<div>\n",
       "<style scoped>\n",
       "    .dataframe tbody tr th:only-of-type {\n",
       "        vertical-align: middle;\n",
       "    }\n",
       "\n",
       "    .dataframe tbody tr th {\n",
       "        vertical-align: top;\n",
       "    }\n",
       "\n",
       "    .dataframe thead th {\n",
       "        text-align: right;\n",
       "    }\n",
       "</style>\n",
       "<table border=\"1\" class=\"dataframe\">\n",
       "  <thead>\n",
       "    <tr style=\"text-align: right;\">\n",
       "      <th></th>\n",
       "      <th>Уникальный пользователь (УП)</th>\n",
       "      <th>Год и месяц покупок УП</th>\n",
       "      <th>Недель в месяце</th>\n",
       "      <th>Всего покупок УП в месяце</th>\n",
       "      <th>Покупок УП в среднем за одну неделю месяца</th>\n",
       "    </tr>\n",
       "  </thead>\n",
       "  <tbody>\n",
       "    <tr>\n",
       "      <th>7316</th>\n",
       "      <td>12f5d6e1cbf93dafd9dcc19095df0b3d</td>\n",
       "      <td>2017-01</td>\n",
       "      <td>4.43</td>\n",
       "      <td>6</td>\n",
       "      <td>1.35</td>\n",
       "    </tr>\n",
       "    <tr>\n",
       "      <th>23910</th>\n",
       "      <td>3e43e6105506432c953e165fb2acf44c</td>\n",
       "      <td>2018-02</td>\n",
       "      <td>4.00</td>\n",
       "      <td>4</td>\n",
       "      <td>1.00</td>\n",
       "    </tr>\n",
       "    <tr>\n",
       "      <th>62114</th>\n",
       "      <td>a239b8e2fbce33780f1f1912e2ee5275</td>\n",
       "      <td>2017-02</td>\n",
       "      <td>4.00</td>\n",
       "      <td>4</td>\n",
       "      <td>1.00</td>\n",
       "    </tr>\n",
       "    <tr>\n",
       "      <th>69301</th>\n",
       "      <td>b4e4f24de1e8725b74e4a1f4975116ed</td>\n",
       "      <td>2018-02</td>\n",
       "      <td>4.00</td>\n",
       "      <td>4</td>\n",
       "      <td>1.00</td>\n",
       "    </tr>\n",
       "  </tbody>\n",
       "</table>\n",
       "</div>"
      ],
      "text/plain": [
       "           Уникальный пользователь (УП) Год и месяц покупок УП  \\\n",
       "7316   12f5d6e1cbf93dafd9dcc19095df0b3d                2017-01   \n",
       "23910  3e43e6105506432c953e165fb2acf44c                2018-02   \n",
       "62114  a239b8e2fbce33780f1f1912e2ee5275                2017-02   \n",
       "69301  b4e4f24de1e8725b74e4a1f4975116ed                2018-02   \n",
       "\n",
       "       Недель в месяце  Всего покупок УП в месяце  \\\n",
       "7316              4.43                          6   \n",
       "23910             4.00                          4   \n",
       "62114             4.00                          4   \n",
       "69301             4.00                          4   \n",
       "\n",
       "       Покупок УП в среднем за одну неделю месяца  \n",
       "7316                                         1.35  \n",
       "23910                                        1.00  \n",
       "62114                                        1.00  \n",
       "69301                                        1.00  "
      ]
     },
     "execution_count": 60,
     "metadata": {},
     "output_type": "execute_result"
    }
   ],
   "source": [
    "purchases.loc[purchases['Покупок УП в среднем за одну неделю месяца'] >= 1]"
   ]
  },
  {
   "cell_type": "markdown",
   "metadata": {},
   "source": [
    "## Ответ по задаче 4. \n",
    "**Сформирован датафрейм** с расчетом среднего количества покупок у каждого из пользователей в неделю по месяцам"
   ]
  },
  {
   "cell_type": "markdown",
   "metadata": {},
   "source": [
    "# Задача 5. \n",
    "## Используя pandas, проведи когортный анализ пользователей. В период с января по декабрь выяви когорту с самым высоким retention на 3-й месяц"
   ]
  },
  {
   "cell_type": "markdown",
   "metadata": {},
   "source": [
    "## Как формируем когорты:\n",
    "- Признак формирования когорты — действие, которое объединяет людей в группу: **первая покупка**\n",
    "- Размер когорты — временной интервал: **месяц**\n",
    "- Отчетный период — время исследования поведения групп: **январь - декабрь 2017**. Причина: только за 2017 год имеются данные за полные 12 месяцев\n",
    "- Начальный период - месяц, когда была совершена первая покупка клиентов, входящих в соотствующую когорту\n",
    "- Анализируемый ключевой показатель: **Retention Rate**"
   ]
  },
  {
   "cell_type": "markdown",
   "metadata": {},
   "source": [
    "## Как считаем Retention rate для каждого месяца\n",
    "**Retention rate** = (количество клиентов за текущий период / количество клиентов за начальный период) x 100%\n"
   ]
  },
  {
   "cell_type": "markdown",
   "metadata": {},
   "source": [
    "Формируем датафрейм с данными о дате первой покупка, для каждого пользователя"
   ]
  },
  {
   "cell_type": "code",
   "execution_count": 61,
   "metadata": {
    "tags": []
   },
   "outputs": [],
   "source": [
    "first_orders = all_tables.groupby('customer_unique_id', as_index=False) \\\n",
    "    .agg({'order_approved_at': 'min'}) \\\n",
    "    .rename(columns={\"order_approved_at\" : \"first_order_date\"})"
   ]
  },
  {
   "cell_type": "markdown",
   "metadata": {},
   "source": [
    "Преобразовываем дату первой покупки в формат \"год-месяц\""
   ]
  },
  {
   "cell_type": "code",
   "execution_count": 62,
   "metadata": {
    "tags": []
   },
   "outputs": [],
   "source": [
    "first_orders.first_order_date = first_orders.first_order_date.dt.to_period(\"M\")"
   ]
  },
  {
   "cell_type": "markdown",
   "metadata": {},
   "source": [
    "Формируем данные о размерах когорт"
   ]
  },
  {
   "cell_type": "code",
   "execution_count": 63,
   "metadata": {
    "tags": []
   },
   "outputs": [],
   "source": [
    "first_orders_group = first_orders.groupby('first_order_date', as_index=False) \\\n",
    "    .customer_unique_id.nunique() \\\n",
    "    .sort_values(\"first_order_date\") \\\n",
    "    .rename(columns={\"customer_unique_id\" : \"cohort_sizes\"})"
   ]
  },
  {
   "cell_type": "markdown",
   "metadata": {},
   "source": [
    "Для каждого пользователя добавляем информацию о его принадлежности к когорте и её размерах"
   ]
  },
  {
   "cell_type": "code",
   "execution_count": 64,
   "metadata": {
    "tags": []
   },
   "outputs": [],
   "source": [
    "info_groups = first_orders.merge(first_orders_group, on='first_order_date', how='left')"
   ]
  },
  {
   "cell_type": "markdown",
   "metadata": {},
   "source": [
    "Добавляем данные о когортах в объеденную таблицу из трех датафреймов"
   ]
  },
  {
   "cell_type": "code",
   "execution_count": 65,
   "metadata": {
    "tags": []
   },
   "outputs": [],
   "source": [
    "orders_merged = all_tables.merge(info_groups, how='left', on='customer_unique_id')"
   ]
  },
  {
   "cell_type": "markdown",
   "metadata": {},
   "source": [
    "В рамках когортного анализа считаем Retention rate для каждой когорты помесячно.\n",
    "\n",
    "В расчетах делаем фильтрацию на 12 месяцев 2017 года, т.к. это единственный год в датасете, где данные есть за все 12 месяцев.\n",
    "\n",
    "Также сделаем ограничение до 3-ого месяца, чтобы упростить восприятие данных."
   ]
  },
  {
   "cell_type": "code",
   "execution_count": 90,
   "metadata": {
    "tags": []
   },
   "outputs": [
    {
     "data": {
      "text/html": [
       "<div>\n",
       "<style scoped>\n",
       "    .dataframe tbody tr th:only-of-type {\n",
       "        vertical-align: middle;\n",
       "    }\n",
       "\n",
       "    .dataframe tbody tr th {\n",
       "        vertical-align: top;\n",
       "    }\n",
       "\n",
       "    .dataframe thead th {\n",
       "        text-align: right;\n",
       "    }\n",
       "</style>\n",
       "<table border=\"1\" class=\"dataframe\">\n",
       "  <thead>\n",
       "    <tr style=\"text-align: right;\">\n",
       "      <th></th>\n",
       "      <th>first_order_date</th>\n",
       "      <th>year_month_purchases</th>\n",
       "      <th>cohort_sizes</th>\n",
       "      <th>customer_unique_id</th>\n",
       "      <th>retention_rate</th>\n",
       "    </tr>\n",
       "  </thead>\n",
       "  <tbody>\n",
       "    <tr>\n",
       "      <th>12</th>\n",
       "      <td>2017-01</td>\n",
       "      <td>2017-01</td>\n",
       "      <td>726</td>\n",
       "      <td>726</td>\n",
       "      <td>100.00</td>\n",
       "    </tr>\n",
       "    <tr>\n",
       "      <th>13</th>\n",
       "      <td>2017-01</td>\n",
       "      <td>2017-02</td>\n",
       "      <td>726</td>\n",
       "      <td>4</td>\n",
       "      <td>0.55</td>\n",
       "    </tr>\n",
       "    <tr>\n",
       "      <th>14</th>\n",
       "      <td>2017-01</td>\n",
       "      <td>2017-03</td>\n",
       "      <td>726</td>\n",
       "      <td>2</td>\n",
       "      <td>0.28</td>\n",
       "    </tr>\n",
       "    <tr>\n",
       "      <th>15</th>\n",
       "      <td>2017-01</td>\n",
       "      <td>2017-04</td>\n",
       "      <td>726</td>\n",
       "      <td>1</td>\n",
       "      <td>0.14</td>\n",
       "    </tr>\n",
       "    <tr>\n",
       "      <th>16</th>\n",
       "      <td>2017-01</td>\n",
       "      <td>2017-05</td>\n",
       "      <td>726</td>\n",
       "      <td>3</td>\n",
       "      <td>0.41</td>\n",
       "    </tr>\n",
       "    <tr>\n",
       "      <th>...</th>\n",
       "      <td>...</td>\n",
       "      <td>...</td>\n",
       "      <td>...</td>\n",
       "      <td>...</td>\n",
       "      <td>...</td>\n",
       "    </tr>\n",
       "    <tr>\n",
       "      <th>178</th>\n",
       "      <td>2017-12</td>\n",
       "      <td>2018-04</td>\n",
       "      <td>5638</td>\n",
       "      <td>14</td>\n",
       "      <td>0.25</td>\n",
       "    </tr>\n",
       "    <tr>\n",
       "      <th>179</th>\n",
       "      <td>2017-12</td>\n",
       "      <td>2018-05</td>\n",
       "      <td>5638</td>\n",
       "      <td>11</td>\n",
       "      <td>0.20</td>\n",
       "    </tr>\n",
       "    <tr>\n",
       "      <th>180</th>\n",
       "      <td>2017-12</td>\n",
       "      <td>2018-06</td>\n",
       "      <td>5638</td>\n",
       "      <td>9</td>\n",
       "      <td>0.16</td>\n",
       "    </tr>\n",
       "    <tr>\n",
       "      <th>181</th>\n",
       "      <td>2017-12</td>\n",
       "      <td>2018-07</td>\n",
       "      <td>5638</td>\n",
       "      <td>2</td>\n",
       "      <td>0.04</td>\n",
       "    </tr>\n",
       "    <tr>\n",
       "      <th>182</th>\n",
       "      <td>2017-12</td>\n",
       "      <td>2018-08</td>\n",
       "      <td>5638</td>\n",
       "      <td>12</td>\n",
       "      <td>0.21</td>\n",
       "    </tr>\n",
       "  </tbody>\n",
       "</table>\n",
       "<p>171 rows × 5 columns</p>\n",
       "</div>"
      ],
      "text/plain": [
       "    first_order_date year_month_purchases  cohort_sizes  customer_unique_id  \\\n",
       "12           2017-01              2017-01           726                 726   \n",
       "13           2017-01              2017-02           726                   4   \n",
       "14           2017-01              2017-03           726                   2   \n",
       "15           2017-01              2017-04           726                   1   \n",
       "16           2017-01              2017-05           726                   3   \n",
       "..               ...                  ...           ...                 ...   \n",
       "178          2017-12              2018-04          5638                  14   \n",
       "179          2017-12              2018-05          5638                  11   \n",
       "180          2017-12              2018-06          5638                   9   \n",
       "181          2017-12              2018-07          5638                   2   \n",
       "182          2017-12              2018-08          5638                  12   \n",
       "\n",
       "     retention_rate  \n",
       "12           100.00  \n",
       "13             0.55  \n",
       "14             0.28  \n",
       "15             0.14  \n",
       "16             0.41  \n",
       "..              ...  \n",
       "178            0.25  \n",
       "179            0.20  \n",
       "180            0.16  \n",
       "181            0.04  \n",
       "182            0.21  \n",
       "\n",
       "[171 rows x 5 columns]"
      ]
     },
     "execution_count": 90,
     "metadata": {},
     "output_type": "execute_result"
    }
   ],
   "source": [
    "cohorts = orders_merged.groupby(['first_order_date','year_month_purchases', 'cohort_sizes'], as_index=False) \\\n",
    "    .customer_unique_id.nunique() \\\n",
    "    .query(\"first_order_date >= '2017-01' and first_order_date <= '2017-12'\") \n",
    "\n",
    "cohorts = cohorts.assign(retention_rate = (cohorts.customer_unique_id / cohorts.cohort_sizes).mul(100).round(2))\n",
    "cohorts"
   ]
  },
  {
   "cell_type": "markdown",
   "metadata": {},
   "source": [
    "Переворачиваем датафрейм с когортным анализом для визуализации через Heatmap"
   ]
  },
  {
   "cell_type": "code",
   "execution_count": 91,
   "metadata": {
    "tags": []
   },
   "outputs": [],
   "source": [
    "cohorts_viz = cohorts.pivot(index='first_order_date', columns='year_month_purchases', values='retention_rate')"
   ]
  },
  {
   "cell_type": "code",
   "execution_count": 92,
   "metadata": {
    "tags": []
   },
   "outputs": [
    {
     "data": {
      "image/png": "[encoded data removed]",
      "text/plain": [
       "<Figure size 1800x800 with 2 Axes>"
      ]
     },
     "metadata": {},
     "output_type": "display_data"
    }
   ],
   "source": [
    "ax = sns.heatmap(cohorts_viz, vmin=0, vmax=0.5, annot=True, cmap=sns.cubehelix_palette(5))\n",
    "\n",
    "ax.set_ylabel('Когорты (месяц первой покупки)')\n",
    "ax.set_xlabel('Месяц совершения покупок')\n",
    "ax.set_title('В период с января по декабрь 2017 года самый высокий Retention Rate на 3-й месяц - 0.41% у когорты \"2017-06\"\\n')\n",
    "plt.xticks(rotation=45)\n",
    "sns.despine() # убрать часть рамки графика"
   ]
  },
  {
   "cell_type": "markdown",
   "metadata": {},
   "source": [
    "## Ответ по задаче 5. \n",
    "В период с января по декабрь 2017 года самый высокий Retention Rate на 3-й месяц - **0.41% у когорты \"2017-06\"** "
   ]
  },
  {
   "cell_type": "markdown",
   "metadata": {},
   "source": [
    "# Задача 6. \n",
    "## Используя python, построй RFM-сегментацию пользователей, чтобы качественно оценить свою аудиторию"
   ]
  },
  {
   "cell_type": "markdown",
   "metadata": {},
   "source": [
    "# Подготовка в расчетам"
   ]
  },
  {
   "cell_type": "markdown",
   "metadata": {},
   "source": [
    "Будем считать, что дата проведения RFM-анализа - на один больше после последней покупки в датасете"
   ]
  },
  {
   "cell_type": "code",
   "execution_count": 93,
   "metadata": {
    "tags": []
   },
   "outputs": [],
   "source": [
    "NOW = all_tables['order_approved_at'].max() + timedelta(days=1)"
   ]
  },
  {
   "cell_type": "markdown",
   "metadata": {},
   "source": [
    "В процессе расчетов выявилось 590 клиентов и 595 заказов, у которых нет данных о содержании заказа, но при этом есть данные, с датой подтверждения получения оплаты."
   ]
  },
  {
   "cell_type": "code",
   "execution_count": 94,
   "metadata": {
    "tags": []
   },
   "outputs": [
    {
     "data": {
      "text/html": [
       "<div>\n",
       "<style scoped>\n",
       "    .dataframe tbody tr th:only-of-type {\n",
       "        vertical-align: middle;\n",
       "    }\n",
       "\n",
       "    .dataframe tbody tr th {\n",
       "        vertical-align: top;\n",
       "    }\n",
       "\n",
       "    .dataframe thead th {\n",
       "        text-align: right;\n",
       "    }\n",
       "</style>\n",
       "<table border=\"1\" class=\"dataframe\">\n",
       "  <thead>\n",
       "    <tr style=\"text-align: right;\">\n",
       "      <th></th>\n",
       "      <th>customer_id</th>\n",
       "      <th>customer_unique_id</th>\n",
       "      <th>customer_zip_code_prefix</th>\n",
       "      <th>customer_city</th>\n",
       "      <th>customer_state</th>\n",
       "      <th>order_id</th>\n",
       "      <th>order_status</th>\n",
       "      <th>order_purchase_timestamp</th>\n",
       "      <th>order_approved_at</th>\n",
       "      <th>order_delivered_carrier_date</th>\n",
       "      <th>order_delivered_customer_date</th>\n",
       "      <th>order_estimated_delivery_date</th>\n",
       "      <th>order_item_id</th>\n",
       "      <th>product_id</th>\n",
       "      <th>seller_id</th>\n",
       "      <th>shipping_limit_date</th>\n",
       "      <th>price</th>\n",
       "      <th>freight_value</th>\n",
       "      <th>year_month_purchases</th>\n",
       "      <th>weeks_on_month</th>\n",
       "    </tr>\n",
       "  </thead>\n",
       "  <tbody>\n",
       "    <tr>\n",
       "      <th>50</th>\n",
       "      <td>f34a6e874087ec1f0e3dab9fdf659c5d</td>\n",
       "      <td>233896de79986082f1f479f1f85281cb</td>\n",
       "      <td>38300</td>\n",
       "      <td>ituiutaba</td>\n",
       "      <td>MG</td>\n",
       "      <td>6e98de3a85c84ead6689189b825d35b5</td>\n",
       "      <td>canceled</td>\n",
       "      <td>2018-03-15 10:07:02</td>\n",
       "      <td>2018-03-15 10:29:33</td>\n",
       "      <td>NaT</td>\n",
       "      <td>NaT</td>\n",
       "      <td>2018-04-09</td>\n",
       "      <td>NaN</td>\n",
       "      <td>NaN</td>\n",
       "      <td>NaN</td>\n",
       "      <td>NaT</td>\n",
       "      <td>NaN</td>\n",
       "      <td>NaN</td>\n",
       "      <td>2018-03</td>\n",
       "      <td>4.43</td>\n",
       "    </tr>\n",
       "    <tr>\n",
       "      <th>330</th>\n",
       "      <td>5bfe800011656c0afb81db64519982db</td>\n",
       "      <td>0071f46a072a9ae25bbe4438b15efe9c</td>\n",
       "      <td>16011</td>\n",
       "      <td>aracatuba</td>\n",
       "      <td>SP</td>\n",
       "      <td>df8c077268f7f3baaac0892eb3143642</td>\n",
       "      <td>unavailable</td>\n",
       "      <td>2017-02-01 00:04:17</td>\n",
       "      <td>2017-02-01 00:30:55</td>\n",
       "      <td>NaT</td>\n",
       "      <td>NaT</td>\n",
       "      <td>2017-03-10</td>\n",
       "      <td>NaN</td>\n",
       "      <td>NaN</td>\n",
       "      <td>NaN</td>\n",
       "      <td>NaT</td>\n",
       "      <td>NaN</td>\n",
       "      <td>NaN</td>\n",
       "      <td>2017-02</td>\n",
       "      <td>4.00</td>\n",
       "    </tr>\n",
       "    <tr>\n",
       "      <th>422</th>\n",
       "      <td>b08064e24083fee8fbe8797902b07ecd</td>\n",
       "      <td>035f60af6e7d7f78470e9443be08d339</td>\n",
       "      <td>28495</td>\n",
       "      <td>aperibe</td>\n",
       "      <td>RJ</td>\n",
       "      <td>c609f82bcf7a90292a5940205ebd7e93</td>\n",
       "      <td>unavailable</td>\n",
       "      <td>2018-05-13 16:45:55</td>\n",
       "      <td>2018-05-13 17:11:58</td>\n",
       "      <td>NaT</td>\n",
       "      <td>NaT</td>\n",
       "      <td>2018-06-05</td>\n",
       "      <td>NaN</td>\n",
       "      <td>NaN</td>\n",
       "      <td>NaN</td>\n",
       "      <td>NaT</td>\n",
       "      <td>NaN</td>\n",
       "      <td>NaN</td>\n",
       "      <td>2018-05</td>\n",
       "      <td>4.43</td>\n",
       "    </tr>\n",
       "    <tr>\n",
       "      <th>432</th>\n",
       "      <td>536f46cc0f2f2b1e40d056f7998f0254</td>\n",
       "      <td>340152332a04149987a705602615f0d0</td>\n",
       "      <td>87030</td>\n",
       "      <td>maringa</td>\n",
       "      <td>PR</td>\n",
       "      <td>cb4a79c1e6c9ae44302861e7602cc449</td>\n",
       "      <td>unavailable</td>\n",
       "      <td>2017-12-06 15:46:07</td>\n",
       "      <td>2017-12-06 15:57:29</td>\n",
       "      <td>NaT</td>\n",
       "      <td>NaT</td>\n",
       "      <td>2018-01-03</td>\n",
       "      <td>NaN</td>\n",
       "      <td>NaN</td>\n",
       "      <td>NaN</td>\n",
       "      <td>NaT</td>\n",
       "      <td>NaN</td>\n",
       "      <td>NaN</td>\n",
       "      <td>2017-12</td>\n",
       "      <td>4.43</td>\n",
       "    </tr>\n",
       "    <tr>\n",
       "      <th>627</th>\n",
       "      <td>8118922685d2e2c0205f060be4f2579c</td>\n",
       "      <td>d0e87d00021530383c16452a39a393ba</td>\n",
       "      <td>45810</td>\n",
       "      <td>porto seguro</td>\n",
       "      <td>BA</td>\n",
       "      <td>af264f3527e94e431f0dcd56cd6b406d</td>\n",
       "      <td>unavailable</td>\n",
       "      <td>2017-07-12 14:49:11</td>\n",
       "      <td>2017-07-12 15:04:10</td>\n",
       "      <td>NaT</td>\n",
       "      <td>NaT</td>\n",
       "      <td>2017-08-11</td>\n",
       "      <td>NaN</td>\n",
       "      <td>NaN</td>\n",
       "      <td>NaN</td>\n",
       "      <td>NaT</td>\n",
       "      <td>NaN</td>\n",
       "      <td>NaN</td>\n",
       "      <td>2017-07</td>\n",
       "      <td>4.43</td>\n",
       "    </tr>\n",
       "    <tr>\n",
       "      <th>...</th>\n",
       "      <td>...</td>\n",
       "      <td>...</td>\n",
       "      <td>...</td>\n",
       "      <td>...</td>\n",
       "      <td>...</td>\n",
       "      <td>...</td>\n",
       "      <td>...</td>\n",
       "      <td>...</td>\n",
       "      <td>...</td>\n",
       "      <td>...</td>\n",
       "      <td>...</td>\n",
       "      <td>...</td>\n",
       "      <td>...</td>\n",
       "      <td>...</td>\n",
       "      <td>...</td>\n",
       "      <td>...</td>\n",
       "      <td>...</td>\n",
       "      <td>...</td>\n",
       "      <td>...</td>\n",
       "      <td>...</td>\n",
       "    </tr>\n",
       "    <tr>\n",
       "      <th>111760</th>\n",
       "      <td>c13b88bfce55305a9240404088bd6a46</td>\n",
       "      <td>d6bc315c133be9c0a334b96002b4c1c1</td>\n",
       "      <td>13060</td>\n",
       "      <td>campinas</td>\n",
       "      <td>SP</td>\n",
       "      <td>f87f3a5e91df877dc36b65fb69ff2465</td>\n",
       "      <td>unavailable</td>\n",
       "      <td>2018-07-30 21:49:41</td>\n",
       "      <td>2018-07-30 22:24:21</td>\n",
       "      <td>NaT</td>\n",
       "      <td>NaT</td>\n",
       "      <td>2018-08-10</td>\n",
       "      <td>NaN</td>\n",
       "      <td>NaN</td>\n",
       "      <td>NaN</td>\n",
       "      <td>NaT</td>\n",
       "      <td>NaN</td>\n",
       "      <td>NaN</td>\n",
       "      <td>2018-07</td>\n",
       "      <td>4.43</td>\n",
       "    </tr>\n",
       "    <tr>\n",
       "      <th>112085</th>\n",
       "      <td>7353b0fb8e8d9675e3a704c60ca44ebe</td>\n",
       "      <td>21c933c8dd97d088e64c50988c90ccf5</td>\n",
       "      <td>5017</td>\n",
       "      <td>sao paulo</td>\n",
       "      <td>SP</td>\n",
       "      <td>2f634e2cebf8c0283e7ef0989f77d217</td>\n",
       "      <td>unavailable</td>\n",
       "      <td>2017-09-27 20:55:33</td>\n",
       "      <td>2017-09-28 01:32:50</td>\n",
       "      <td>NaT</td>\n",
       "      <td>NaT</td>\n",
       "      <td>2017-10-27</td>\n",
       "      <td>NaN</td>\n",
       "      <td>NaN</td>\n",
       "      <td>NaN</td>\n",
       "      <td>NaT</td>\n",
       "      <td>NaN</td>\n",
       "      <td>NaN</td>\n",
       "      <td>2017-09</td>\n",
       "      <td>4.29</td>\n",
       "    </tr>\n",
       "    <tr>\n",
       "      <th>112143</th>\n",
       "      <td>5effe9491d0f5a1c12ee4a384ec09bdf</td>\n",
       "      <td>e9429d622d9e764ca60ba01bc252b0a8</td>\n",
       "      <td>8690</td>\n",
       "      <td>suzano</td>\n",
       "      <td>SP</td>\n",
       "      <td>2b0edc4c59d83dcef85466718c36a317</td>\n",
       "      <td>unavailable</td>\n",
       "      <td>2017-09-29 19:17:10</td>\n",
       "      <td>2017-09-29 20:00:07</td>\n",
       "      <td>NaT</td>\n",
       "      <td>NaT</td>\n",
       "      <td>2017-10-17</td>\n",
       "      <td>NaN</td>\n",
       "      <td>NaN</td>\n",
       "      <td>NaN</td>\n",
       "      <td>NaT</td>\n",
       "      <td>NaN</td>\n",
       "      <td>NaN</td>\n",
       "      <td>2017-09</td>\n",
       "      <td>4.29</td>\n",
       "    </tr>\n",
       "    <tr>\n",
       "      <th>112517</th>\n",
       "      <td>1761db2f0d235bbfa1c281093198af0c</td>\n",
       "      <td>21c2c79d24e2d8e3496aabb1f65d85c6</td>\n",
       "      <td>20270</td>\n",
       "      <td>rio de janeiro</td>\n",
       "      <td>RJ</td>\n",
       "      <td>8b08f0e729f58529ed03e763270f78d5</td>\n",
       "      <td>unavailable</td>\n",
       "      <td>2017-08-24 21:02:47</td>\n",
       "      <td>2017-08-24 21:15:36</td>\n",
       "      <td>NaT</td>\n",
       "      <td>NaT</td>\n",
       "      <td>2017-09-27</td>\n",
       "      <td>NaN</td>\n",
       "      <td>NaN</td>\n",
       "      <td>NaN</td>\n",
       "      <td>NaT</td>\n",
       "      <td>NaN</td>\n",
       "      <td>NaN</td>\n",
       "      <td>2017-08</td>\n",
       "      <td>4.43</td>\n",
       "    </tr>\n",
       "    <tr>\n",
       "      <th>113045</th>\n",
       "      <td>882b44646ab3f186597b1622a9443ff9</td>\n",
       "      <td>639b4096a4e5c96549a9bb495ca4871e</td>\n",
       "      <td>13972</td>\n",
       "      <td>itapira</td>\n",
       "      <td>SP</td>\n",
       "      <td>9b932dca249f9971b86dde2f2d7ad412</td>\n",
       "      <td>unavailable</td>\n",
       "      <td>2017-11-20 17:08:43</td>\n",
       "      <td>2017-11-20 17:26:54</td>\n",
       "      <td>NaT</td>\n",
       "      <td>NaT</td>\n",
       "      <td>2017-12-07</td>\n",
       "      <td>NaN</td>\n",
       "      <td>NaN</td>\n",
       "      <td>NaN</td>\n",
       "      <td>NaT</td>\n",
       "      <td>NaN</td>\n",
       "      <td>NaN</td>\n",
       "      <td>2017-11</td>\n",
       "      <td>4.29</td>\n",
       "    </tr>\n",
       "  </tbody>\n",
       "</table>\n",
       "<p>595 rows × 20 columns</p>\n",
       "</div>"
      ],
      "text/plain": [
       "                             customer_id                customer_unique_id  \\\n",
       "50      f34a6e874087ec1f0e3dab9fdf659c5d  233896de79986082f1f479f1f85281cb   \n",
       "330     5bfe800011656c0afb81db64519982db  0071f46a072a9ae25bbe4438b15efe9c   \n",
       "422     b08064e24083fee8fbe8797902b07ecd  035f60af6e7d7f78470e9443be08d339   \n",
       "432     536f46cc0f2f2b1e40d056f7998f0254  340152332a04149987a705602615f0d0   \n",
       "627     8118922685d2e2c0205f060be4f2579c  d0e87d00021530383c16452a39a393ba   \n",
       "...                                  ...                               ...   \n",
       "111760  c13b88bfce55305a9240404088bd6a46  d6bc315c133be9c0a334b96002b4c1c1   \n",
       "112085  7353b0fb8e8d9675e3a704c60ca44ebe  21c933c8dd97d088e64c50988c90ccf5   \n",
       "112143  5effe9491d0f5a1c12ee4a384ec09bdf  e9429d622d9e764ca60ba01bc252b0a8   \n",
       "112517  1761db2f0d235bbfa1c281093198af0c  21c2c79d24e2d8e3496aabb1f65d85c6   \n",
       "113045  882b44646ab3f186597b1622a9443ff9  639b4096a4e5c96549a9bb495ca4871e   \n",
       "\n",
       "        customer_zip_code_prefix   customer_city customer_state  \\\n",
       "50                         38300       ituiutaba             MG   \n",
       "330                        16011       aracatuba             SP   \n",
       "422                        28495         aperibe             RJ   \n",
       "432                        87030         maringa             PR   \n",
       "627                        45810    porto seguro             BA   \n",
       "...                          ...             ...            ...   \n",
       "111760                     13060        campinas             SP   \n",
       "112085                      5017       sao paulo             SP   \n",
       "112143                      8690          suzano             SP   \n",
       "112517                     20270  rio de janeiro             RJ   \n",
       "113045                     13972         itapira             SP   \n",
       "\n",
       "                                order_id order_status  \\\n",
       "50      6e98de3a85c84ead6689189b825d35b5     canceled   \n",
       "330     df8c077268f7f3baaac0892eb3143642  unavailable   \n",
       "422     c609f82bcf7a90292a5940205ebd7e93  unavailable   \n",
       "432     cb4a79c1e6c9ae44302861e7602cc449  unavailable   \n",
       "627     af264f3527e94e431f0dcd56cd6b406d  unavailable   \n",
       "...                                  ...          ...   \n",
       "111760  f87f3a5e91df877dc36b65fb69ff2465  unavailable   \n",
       "112085  2f634e2cebf8c0283e7ef0989f77d217  unavailable   \n",
       "112143  2b0edc4c59d83dcef85466718c36a317  unavailable   \n",
       "112517  8b08f0e729f58529ed03e763270f78d5  unavailable   \n",
       "113045  9b932dca249f9971b86dde2f2d7ad412  unavailable   \n",
       "\n",
       "       order_purchase_timestamp   order_approved_at  \\\n",
       "50          2018-03-15 10:07:02 2018-03-15 10:29:33   \n",
       "330         2017-02-01 00:04:17 2017-02-01 00:30:55   \n",
       "422         2018-05-13 16:45:55 2018-05-13 17:11:58   \n",
       "432         2017-12-06 15:46:07 2017-12-06 15:57:29   \n",
       "627         2017-07-12 14:49:11 2017-07-12 15:04:10   \n",
       "...                         ...                 ...   \n",
       "111760      2018-07-30 21:49:41 2018-07-30 22:24:21   \n",
       "112085      2017-09-27 20:55:33 2017-09-28 01:32:50   \n",
       "112143      2017-09-29 19:17:10 2017-09-29 20:00:07   \n",
       "112517      2017-08-24 21:02:47 2017-08-24 21:15:36   \n",
       "113045      2017-11-20 17:08:43 2017-11-20 17:26:54   \n",
       "\n",
       "       order_delivered_carrier_date order_delivered_customer_date  \\\n",
       "50                              NaT                           NaT   \n",
       "330                             NaT                           NaT   \n",
       "422                             NaT                           NaT   \n",
       "432                             NaT                           NaT   \n",
       "627                             NaT                           NaT   \n",
       "...                             ...                           ...   \n",
       "111760                          NaT                           NaT   \n",
       "112085                          NaT                           NaT   \n",
       "112143                          NaT                           NaT   \n",
       "112517                          NaT                           NaT   \n",
       "113045                          NaT                           NaT   \n",
       "\n",
       "       order_estimated_delivery_date  order_item_id product_id seller_id  \\\n",
       "50                        2018-04-09            NaN        NaN       NaN   \n",
       "330                       2017-03-10            NaN        NaN       NaN   \n",
       "422                       2018-06-05            NaN        NaN       NaN   \n",
       "432                       2018-01-03            NaN        NaN       NaN   \n",
       "627                       2017-08-11            NaN        NaN       NaN   \n",
       "...                              ...            ...        ...       ...   \n",
       "111760                    2018-08-10            NaN        NaN       NaN   \n",
       "112085                    2017-10-27            NaN        NaN       NaN   \n",
       "112143                    2017-10-17            NaN        NaN       NaN   \n",
       "112517                    2017-09-27            NaN        NaN       NaN   \n",
       "113045                    2017-12-07            NaN        NaN       NaN   \n",
       "\n",
       "       shipping_limit_date  price  freight_value year_month_purchases  \\\n",
       "50                     NaT    NaN            NaN              2018-03   \n",
       "330                    NaT    NaN            NaN              2017-02   \n",
       "422                    NaT    NaN            NaN              2018-05   \n",
       "432                    NaT    NaN            NaN              2017-12   \n",
       "627                    NaT    NaN            NaN              2017-07   \n",
       "...                    ...    ...            ...                  ...   \n",
       "111760                 NaT    NaN            NaN              2018-07   \n",
       "112085                 NaT    NaN            NaN              2017-09   \n",
       "112143                 NaT    NaN            NaN              2017-09   \n",
       "112517                 NaT    NaN            NaN              2017-08   \n",
       "113045                 NaT    NaN            NaN              2017-11   \n",
       "\n",
       "        weeks_on_month  \n",
       "50                4.43  \n",
       "330               4.00  \n",
       "422               4.43  \n",
       "432               4.43  \n",
       "627               4.43  \n",
       "...                ...  \n",
       "111760            4.43  \n",
       "112085            4.29  \n",
       "112143            4.29  \n",
       "112517            4.43  \n",
       "113045            4.29  \n",
       "\n",
       "[595 rows x 20 columns]"
      ]
     },
     "execution_count": 94,
     "metadata": {},
     "output_type": "execute_result"
    }
   ],
   "source": [
    "test_rfm = all_tables.groupby([\"customer_unique_id\", \"order_id\", \"product_id\", \"price\"], as_index=False) \\\n",
    "    .product_id.count()\n",
    "\n",
    "filter_fot_df = test_rfm.customer_unique_id.unique()\n",
    "\n",
    "all_tables.loc[~all_tables.customer_unique_id.isin(filter_fot_df)]"
   ]
  },
  {
   "cell_type": "code",
   "execution_count": 95,
   "metadata": {
    "tags": []
   },
   "outputs": [
    {
     "data": {
      "text/plain": [
       "590"
      ]
     },
     "execution_count": 95,
     "metadata": {},
     "output_type": "execute_result"
    }
   ],
   "source": [
    "all_tables.loc[~all_tables.customer_unique_id.isin(filter_fot_df)].customer_unique_id.nunique()"
   ]
  },
  {
   "cell_type": "code",
   "execution_count": 96,
   "metadata": {
    "tags": []
   },
   "outputs": [
    {
     "data": {
      "text/plain": [
       "595"
      ]
     },
     "execution_count": 96,
     "metadata": {},
     "output_type": "execute_result"
    }
   ],
   "source": [
    "all_tables.loc[~all_tables.customer_unique_id.isin(filter_fot_df)].order_id.nunique()"
   ]
  },
  {
   "cell_type": "markdown",
   "metadata": {},
   "source": [
    "Для решения предыдущих заданий это не является помехой и убирать такие данные не нужно.\n",
    "\n",
    "Однако для RFM-анализа такие данные необходимо убрать, т.к. для выявленных 590 клиентов не будет расчитан критерий M, из-за чего анализ будет некорректным.\n",
    "\n",
    "Для дальнейших расчетов формируем датафрейм без выявленных 590 клиентов."
   ]
  },
  {
   "cell_type": "code",
   "execution_count": 97,
   "metadata": {
    "tags": []
   },
   "outputs": [],
   "source": [
    "rfm_df = all_tables.loc[all_tables.customer_unique_id.isin(filter_fot_df)]"
   ]
  },
  {
   "cell_type": "markdown",
   "metadata": {},
   "source": [
    "# Начинаем производить расчеты:"
   ]
  },
  {
   "cell_type": "markdown",
   "metadata": {},
   "source": [
    "Рассчитаем новизну - R"
   ]
  },
  {
   "cell_type": "code",
   "execution_count": 98,
   "metadata": {
    "tags": []
   },
   "outputs": [
    {
     "data": {
      "text/html": [
       "<div>\n",
       "<style scoped>\n",
       "    .dataframe tbody tr th:only-of-type {\n",
       "        vertical-align: middle;\n",
       "    }\n",
       "\n",
       "    .dataframe tbody tr th {\n",
       "        vertical-align: top;\n",
       "    }\n",
       "\n",
       "    .dataframe thead th {\n",
       "        text-align: right;\n",
       "    }\n",
       "</style>\n",
       "<table border=\"1\" class=\"dataframe\">\n",
       "  <thead>\n",
       "    <tr style=\"text-align: right;\">\n",
       "      <th></th>\n",
       "      <th>customer_unique_id</th>\n",
       "      <th>last_invoice_date</th>\n",
       "      <th>Recency</th>\n",
       "    </tr>\n",
       "  </thead>\n",
       "  <tbody>\n",
       "    <tr>\n",
       "      <th>95070</th>\n",
       "      <td>ff22e30958c13ffe219db7d711e8f564</td>\n",
       "      <td>2018-09-03 17:40:06</td>\n",
       "      <td>1</td>\n",
       "    </tr>\n",
       "    <tr>\n",
       "      <th>25721</th>\n",
       "      <td>44d111bdc55faca551ef91cb74a444d8</td>\n",
       "      <td>2018-08-28 17:55:18</td>\n",
       "      <td>6</td>\n",
       "    </tr>\n",
       "    <tr>\n",
       "      <th>12704</th>\n",
       "      <td>21dbe8eabd00b34492a939c540e2b1a7</td>\n",
       "      <td>2018-08-29 10:35:16</td>\n",
       "      <td>6</td>\n",
       "    </tr>\n",
       "    <tr>\n",
       "      <th>33294</th>\n",
       "      <td>58ffbb506c34ffb731c99595589a4ebe</td>\n",
       "      <td>2018-08-28 19:10:17</td>\n",
       "      <td>6</td>\n",
       "    </tr>\n",
       "    <tr>\n",
       "      <th>67512</th>\n",
       "      <td>b4dcade04bc548b7e3b0243c801f8c26</td>\n",
       "      <td>2018-08-29 09:25:12</td>\n",
       "      <td>6</td>\n",
       "    </tr>\n",
       "    <tr>\n",
       "      <th>...</th>\n",
       "      <td>...</td>\n",
       "      <td>...</td>\n",
       "      <td>...</td>\n",
       "    </tr>\n",
       "    <tr>\n",
       "      <th>35753</th>\n",
       "      <td>5f7e36fb1d42d0b1c408b5b41bc52bb3</td>\n",
       "      <td>2016-10-04 13:47:06</td>\n",
       "      <td>700</td>\n",
       "    </tr>\n",
       "    <tr>\n",
       "      <th>68953</th>\n",
       "      <td>b8b8726af116a5cfb35b0315ecef9172</td>\n",
       "      <td>2016-10-04 10:18:57</td>\n",
       "      <td>700</td>\n",
       "    </tr>\n",
       "    <tr>\n",
       "      <th>43181</th>\n",
       "      <td>7390ed59fa1febbfda31a80b4318c8cb</td>\n",
       "      <td>2016-10-04 10:28:25</td>\n",
       "      <td>700</td>\n",
       "    </tr>\n",
       "    <tr>\n",
       "      <th>7596</th>\n",
       "      <td>14359ea0c7a105749c0a56478825b015</td>\n",
       "      <td>2016-10-04 09:43:32</td>\n",
       "      <td>700</td>\n",
       "    </tr>\n",
       "    <tr>\n",
       "      <th>48968</th>\n",
       "      <td>830d5b7aaa3b6f1e9ad63703bec97d23</td>\n",
       "      <td>2016-09-15 12:16:38</td>\n",
       "      <td>719</td>\n",
       "    </tr>\n",
       "  </tbody>\n",
       "</table>\n",
       "<p>95407 rows × 3 columns</p>\n",
       "</div>"
      ],
      "text/plain": [
       "                     customer_unique_id   last_invoice_date  Recency\n",
       "95070  ff22e30958c13ffe219db7d711e8f564 2018-09-03 17:40:06        1\n",
       "25721  44d111bdc55faca551ef91cb74a444d8 2018-08-28 17:55:18        6\n",
       "12704  21dbe8eabd00b34492a939c540e2b1a7 2018-08-29 10:35:16        6\n",
       "33294  58ffbb506c34ffb731c99595589a4ebe 2018-08-28 19:10:17        6\n",
       "67512  b4dcade04bc548b7e3b0243c801f8c26 2018-08-29 09:25:12        6\n",
       "...                                 ...                 ...      ...\n",
       "35753  5f7e36fb1d42d0b1c408b5b41bc52bb3 2016-10-04 13:47:06      700\n",
       "68953  b8b8726af116a5cfb35b0315ecef9172 2016-10-04 10:18:57      700\n",
       "43181  7390ed59fa1febbfda31a80b4318c8cb 2016-10-04 10:28:25      700\n",
       "7596   14359ea0c7a105749c0a56478825b015 2016-10-04 09:43:32      700\n",
       "48968  830d5b7aaa3b6f1e9ad63703bec97d23 2016-09-15 12:16:38      719\n",
       "\n",
       "[95407 rows x 3 columns]"
      ]
     },
     "execution_count": 98,
     "metadata": {},
     "output_type": "execute_result"
    }
   ],
   "source": [
    "r_df = rfm_df.groupby(\"customer_unique_id\", as_index=False) \\\n",
    "    .order_approved_at.max()\n",
    "\n",
    "r_df = r_df \\\n",
    "    .assign(Recency = r_df['order_approved_at'].apply(lambda x: (NOW - x).days)) \\\n",
    "    .rename(columns={\"order_approved_at\" : \"last_invoice_date\"}) \\\n",
    "    .sort_values(\"Recency\")\n",
    "\n",
    "r_df"
   ]
  },
  {
   "cell_type": "markdown",
   "metadata": {},
   "source": [
    "Удаляем лишний столбец с датай последнего платежа"
   ]
  },
  {
   "cell_type": "code",
   "execution_count": 99,
   "metadata": {
    "tags": []
   },
   "outputs": [],
   "source": [
    "r_df = r_df.drop('last_invoice_date', axis=1)"
   ]
  },
  {
   "cell_type": "code",
   "execution_count": 100,
   "metadata": {
    "tags": []
   },
   "outputs": [
    {
     "data": {
      "text/html": [
       "<div>\n",
       "<style scoped>\n",
       "    .dataframe tbody tr th:only-of-type {\n",
       "        vertical-align: middle;\n",
       "    }\n",
       "\n",
       "    .dataframe tbody tr th {\n",
       "        vertical-align: top;\n",
       "    }\n",
       "\n",
       "    .dataframe thead th {\n",
       "        text-align: right;\n",
       "    }\n",
       "</style>\n",
       "<table border=\"1\" class=\"dataframe\">\n",
       "  <thead>\n",
       "    <tr style=\"text-align: right;\">\n",
       "      <th></th>\n",
       "      <th>customer_unique_id</th>\n",
       "      <th>Recency</th>\n",
       "    </tr>\n",
       "  </thead>\n",
       "  <tbody>\n",
       "    <tr>\n",
       "      <th>95070</th>\n",
       "      <td>ff22e30958c13ffe219db7d711e8f564</td>\n",
       "      <td>1</td>\n",
       "    </tr>\n",
       "    <tr>\n",
       "      <th>25721</th>\n",
       "      <td>44d111bdc55faca551ef91cb74a444d8</td>\n",
       "      <td>6</td>\n",
       "    </tr>\n",
       "    <tr>\n",
       "      <th>12704</th>\n",
       "      <td>21dbe8eabd00b34492a939c540e2b1a7</td>\n",
       "      <td>6</td>\n",
       "    </tr>\n",
       "    <tr>\n",
       "      <th>33294</th>\n",
       "      <td>58ffbb506c34ffb731c99595589a4ebe</td>\n",
       "      <td>6</td>\n",
       "    </tr>\n",
       "    <tr>\n",
       "      <th>67512</th>\n",
       "      <td>b4dcade04bc548b7e3b0243c801f8c26</td>\n",
       "      <td>6</td>\n",
       "    </tr>\n",
       "    <tr>\n",
       "      <th>...</th>\n",
       "      <td>...</td>\n",
       "      <td>...</td>\n",
       "    </tr>\n",
       "    <tr>\n",
       "      <th>35753</th>\n",
       "      <td>5f7e36fb1d42d0b1c408b5b41bc52bb3</td>\n",
       "      <td>700</td>\n",
       "    </tr>\n",
       "    <tr>\n",
       "      <th>68953</th>\n",
       "      <td>b8b8726af116a5cfb35b0315ecef9172</td>\n",
       "      <td>700</td>\n",
       "    </tr>\n",
       "    <tr>\n",
       "      <th>43181</th>\n",
       "      <td>7390ed59fa1febbfda31a80b4318c8cb</td>\n",
       "      <td>700</td>\n",
       "    </tr>\n",
       "    <tr>\n",
       "      <th>7596</th>\n",
       "      <td>14359ea0c7a105749c0a56478825b015</td>\n",
       "      <td>700</td>\n",
       "    </tr>\n",
       "    <tr>\n",
       "      <th>48968</th>\n",
       "      <td>830d5b7aaa3b6f1e9ad63703bec97d23</td>\n",
       "      <td>719</td>\n",
       "    </tr>\n",
       "  </tbody>\n",
       "</table>\n",
       "<p>95407 rows × 2 columns</p>\n",
       "</div>"
      ],
      "text/plain": [
       "                     customer_unique_id  Recency\n",
       "95070  ff22e30958c13ffe219db7d711e8f564        1\n",
       "25721  44d111bdc55faca551ef91cb74a444d8        6\n",
       "12704  21dbe8eabd00b34492a939c540e2b1a7        6\n",
       "33294  58ffbb506c34ffb731c99595589a4ebe        6\n",
       "67512  b4dcade04bc548b7e3b0243c801f8c26        6\n",
       "...                                 ...      ...\n",
       "35753  5f7e36fb1d42d0b1c408b5b41bc52bb3      700\n",
       "68953  b8b8726af116a5cfb35b0315ecef9172      700\n",
       "43181  7390ed59fa1febbfda31a80b4318c8cb      700\n",
       "7596   14359ea0c7a105749c0a56478825b015      700\n",
       "48968  830d5b7aaa3b6f1e9ad63703bec97d23      719\n",
       "\n",
       "[95407 rows x 2 columns]"
      ]
     },
     "execution_count": 100,
     "metadata": {},
     "output_type": "execute_result"
    }
   ],
   "source": [
    "r_df"
   ]
  },
  {
   "cell_type": "markdown",
   "metadata": {},
   "source": [
    "Рассчитаем частоту - F"
   ]
  },
  {
   "cell_type": "code",
   "execution_count": 101,
   "metadata": {
    "tags": []
   },
   "outputs": [
    {
     "data": {
      "text/html": [
       "<div>\n",
       "<style scoped>\n",
       "    .dataframe tbody tr th:only-of-type {\n",
       "        vertical-align: middle;\n",
       "    }\n",
       "\n",
       "    .dataframe tbody tr th {\n",
       "        vertical-align: top;\n",
       "    }\n",
       "\n",
       "    .dataframe thead th {\n",
       "        text-align: right;\n",
       "    }\n",
       "</style>\n",
       "<table border=\"1\" class=\"dataframe\">\n",
       "  <thead>\n",
       "    <tr style=\"text-align: right;\">\n",
       "      <th></th>\n",
       "      <th>customer_unique_id</th>\n",
       "      <th>Frequency</th>\n",
       "    </tr>\n",
       "  </thead>\n",
       "  <tbody>\n",
       "    <tr>\n",
       "      <th>52592</th>\n",
       "      <td>8d50f5eadf50201ccdcedfb9e2ac8455</td>\n",
       "      <td>17</td>\n",
       "    </tr>\n",
       "    <tr>\n",
       "      <th>23302</th>\n",
       "      <td>3e43e6105506432c953e165fb2acf44c</td>\n",
       "      <td>9</td>\n",
       "    </tr>\n",
       "    <tr>\n",
       "      <th>10281</th>\n",
       "      <td>1b6c7548a2a1f9037c1fd3ddfed95f33</td>\n",
       "      <td>7</td>\n",
       "    </tr>\n",
       "    <tr>\n",
       "      <th>37531</th>\n",
       "      <td>6469f99c1f9dfae7733b25662e7f1782</td>\n",
       "      <td>7</td>\n",
       "    </tr>\n",
       "    <tr>\n",
       "      <th>75550</th>\n",
       "      <td>ca77025e7201e3b30c44b472ff346268</td>\n",
       "      <td>7</td>\n",
       "    </tr>\n",
       "    <tr>\n",
       "      <th>...</th>\n",
       "      <td>...</td>\n",
       "      <td>...</td>\n",
       "    </tr>\n",
       "    <tr>\n",
       "      <th>32270</th>\n",
       "      <td>5657596addb4d7b07b32cd330614bdf8</td>\n",
       "      <td>1</td>\n",
       "    </tr>\n",
       "    <tr>\n",
       "      <th>32269</th>\n",
       "      <td>5656eb169546146caeab56c3ffc3d268</td>\n",
       "      <td>1</td>\n",
       "    </tr>\n",
       "    <tr>\n",
       "      <th>32268</th>\n",
       "      <td>5656a8fabc8629ff96b2bc14f8c09a27</td>\n",
       "      <td>1</td>\n",
       "    </tr>\n",
       "    <tr>\n",
       "      <th>32267</th>\n",
       "      <td>56560124a5cc70119deb685775639ea7</td>\n",
       "      <td>1</td>\n",
       "    </tr>\n",
       "    <tr>\n",
       "      <th>95406</th>\n",
       "      <td>ffffd2657e2aad2907e67c3e9daecbeb</td>\n",
       "      <td>1</td>\n",
       "    </tr>\n",
       "  </tbody>\n",
       "</table>\n",
       "<p>95407 rows × 2 columns</p>\n",
       "</div>"
      ],
      "text/plain": [
       "                     customer_unique_id  Frequency\n",
       "52592  8d50f5eadf50201ccdcedfb9e2ac8455         17\n",
       "23302  3e43e6105506432c953e165fb2acf44c          9\n",
       "10281  1b6c7548a2a1f9037c1fd3ddfed95f33          7\n",
       "37531  6469f99c1f9dfae7733b25662e7f1782          7\n",
       "75550  ca77025e7201e3b30c44b472ff346268          7\n",
       "...                                 ...        ...\n",
       "32270  5657596addb4d7b07b32cd330614bdf8          1\n",
       "32269  5656eb169546146caeab56c3ffc3d268          1\n",
       "32268  5656a8fabc8629ff96b2bc14f8c09a27          1\n",
       "32267  56560124a5cc70119deb685775639ea7          1\n",
       "95406  ffffd2657e2aad2907e67c3e9daecbeb          1\n",
       "\n",
       "[95407 rows x 2 columns]"
      ]
     },
     "execution_count": 101,
     "metadata": {},
     "output_type": "execute_result"
    }
   ],
   "source": [
    "f_df = rfm_df.groupby(\"customer_unique_id\", as_index=False) \\\n",
    "    .order_id.nunique() \\\n",
    "    .rename(columns={\"order_id\" : \"Frequency\"}) \\\n",
    "    .sort_values(\"Frequency\", ascending=False)\n",
    "\n",
    "f_df"
   ]
  },
  {
   "cell_type": "markdown",
   "metadata": {},
   "source": [
    "Рассчитываем общее число выручки с клиента - M"
   ]
  },
  {
   "cell_type": "code",
   "execution_count": 102,
   "metadata": {
    "tags": []
   },
   "outputs": [
    {
     "data": {
      "text/html": [
       "<div>\n",
       "<style scoped>\n",
       "    .dataframe tbody tr th:only-of-type {\n",
       "        vertical-align: middle;\n",
       "    }\n",
       "\n",
       "    .dataframe tbody tr th {\n",
       "        vertical-align: top;\n",
       "    }\n",
       "\n",
       "    .dataframe thead th {\n",
       "        text-align: right;\n",
       "    }\n",
       "</style>\n",
       "<table border=\"1\" class=\"dataframe\">\n",
       "  <thead>\n",
       "    <tr style=\"text-align: right;\">\n",
       "      <th></th>\n",
       "      <th>customer_unique_id</th>\n",
       "      <th>Monetary</th>\n",
       "    </tr>\n",
       "  </thead>\n",
       "  <tbody>\n",
       "    <tr>\n",
       "      <th>3799</th>\n",
       "      <td>0a0a92112bd4c708ca5fde585afaa872</td>\n",
       "      <td>13440.00</td>\n",
       "    </tr>\n",
       "    <tr>\n",
       "      <th>81377</th>\n",
       "      <td>da122df9eeddfedc1dc1f5349a1a690c</td>\n",
       "      <td>7388.00</td>\n",
       "    </tr>\n",
       "    <tr>\n",
       "      <th>44137</th>\n",
       "      <td>763c8b1c9c68a0229c42c9fc6f662b93</td>\n",
       "      <td>7160.00</td>\n",
       "    </tr>\n",
       "    <tr>\n",
       "      <th>82219</th>\n",
       "      <td>dc4802a71eae9be1dd28f5d788ceb526</td>\n",
       "      <td>6735.00</td>\n",
       "    </tr>\n",
       "    <tr>\n",
       "      <th>26015</th>\n",
       "      <td>459bef486812aa25204be022145caa62</td>\n",
       "      <td>6729.00</td>\n",
       "    </tr>\n",
       "    <tr>\n",
       "      <th>...</th>\n",
       "      <td>...</td>\n",
       "      <td>...</td>\n",
       "    </tr>\n",
       "    <tr>\n",
       "      <th>77293</th>\n",
       "      <td>cf3839da0d9492ad151690b65f45d800</td>\n",
       "      <td>2.99</td>\n",
       "    </tr>\n",
       "    <tr>\n",
       "      <th>70550</th>\n",
       "      <td>bd06ce0e06ad77a7f681f1a4960a3cc6</td>\n",
       "      <td>2.29</td>\n",
       "    </tr>\n",
       "    <tr>\n",
       "      <th>18518</th>\n",
       "      <td>317cfc692e3f86c45c95697c61c853a6</td>\n",
       "      <td>2.20</td>\n",
       "    </tr>\n",
       "    <tr>\n",
       "      <th>67003</th>\n",
       "      <td>b38211bd797f4fdd81a98b9d1754b606</td>\n",
       "      <td>0.85</td>\n",
       "    </tr>\n",
       "    <tr>\n",
       "      <th>80624</th>\n",
       "      <td>d80730c15c647bc8f2ad77c908ba5ca9</td>\n",
       "      <td>0.85</td>\n",
       "    </tr>\n",
       "  </tbody>\n",
       "</table>\n",
       "<p>95407 rows × 2 columns</p>\n",
       "</div>"
      ],
      "text/plain": [
       "                     customer_unique_id  Monetary\n",
       "3799   0a0a92112bd4c708ca5fde585afaa872  13440.00\n",
       "81377  da122df9eeddfedc1dc1f5349a1a690c   7388.00\n",
       "44137  763c8b1c9c68a0229c42c9fc6f662b93   7160.00\n",
       "82219  dc4802a71eae9be1dd28f5d788ceb526   6735.00\n",
       "26015  459bef486812aa25204be022145caa62   6729.00\n",
       "...                                 ...       ...\n",
       "77293  cf3839da0d9492ad151690b65f45d800      2.99\n",
       "70550  bd06ce0e06ad77a7f681f1a4960a3cc6      2.29\n",
       "18518  317cfc692e3f86c45c95697c61c853a6      2.20\n",
       "67003  b38211bd797f4fdd81a98b9d1754b606      0.85\n",
       "80624  d80730c15c647bc8f2ad77c908ba5ca9      0.85\n",
       "\n",
       "[95407 rows x 2 columns]"
      ]
     },
     "execution_count": 102,
     "metadata": {},
     "output_type": "execute_result"
    }
   ],
   "source": [
    "m_df = rfm_df.groupby([\"customer_unique_id\", \"order_id\", \"product_id\", \"price\"], as_index=False) \\\n",
    "    .product_id.count()\n",
    "\n",
    "m_df = m_df.assign(revenue_order_id = m_df.price * m_df.product_id)\n",
    "\n",
    "m_df = m_df.groupby(\"customer_unique_id\", as_index=False) \\\n",
    "    .revenue_order_id.sum() \\\n",
    "    .sort_values(\"revenue_order_id\", ascending=False) \\\n",
    "    .rename(columns={\"revenue_order_id\" : \"Monetary\"})\n",
    "\n",
    "m_df"
   ]
  },
  {
   "cell_type": "markdown",
   "metadata": {},
   "source": [
    "**Объединяем полученные результаты в один датафрейм**"
   ]
  },
  {
   "cell_type": "code",
   "execution_count": 103,
   "metadata": {
    "tags": []
   },
   "outputs": [
    {
     "data": {
      "text/html": [
       "<div>\n",
       "<style scoped>\n",
       "    .dataframe tbody tr th:only-of-type {\n",
       "        vertical-align: middle;\n",
       "    }\n",
       "\n",
       "    .dataframe tbody tr th {\n",
       "        vertical-align: top;\n",
       "    }\n",
       "\n",
       "    .dataframe thead th {\n",
       "        text-align: right;\n",
       "    }\n",
       "</style>\n",
       "<table border=\"1\" class=\"dataframe\">\n",
       "  <thead>\n",
       "    <tr style=\"text-align: right;\">\n",
       "      <th></th>\n",
       "      <th>customer_unique_id</th>\n",
       "      <th>Recency</th>\n",
       "      <th>Frequency</th>\n",
       "      <th>Monetary</th>\n",
       "    </tr>\n",
       "  </thead>\n",
       "  <tbody>\n",
       "    <tr>\n",
       "      <th>0</th>\n",
       "      <td>ff22e30958c13ffe219db7d711e8f564</td>\n",
       "      <td>1</td>\n",
       "      <td>2</td>\n",
       "      <td>290.00</td>\n",
       "    </tr>\n",
       "    <tr>\n",
       "      <th>1</th>\n",
       "      <td>44d111bdc55faca551ef91cb74a444d8</td>\n",
       "      <td>6</td>\n",
       "      <td>1</td>\n",
       "      <td>249.90</td>\n",
       "    </tr>\n",
       "    <tr>\n",
       "      <th>2</th>\n",
       "      <td>21dbe8eabd00b34492a939c540e2b1a7</td>\n",
       "      <td>6</td>\n",
       "      <td>1</td>\n",
       "      <td>6.90</td>\n",
       "    </tr>\n",
       "    <tr>\n",
       "      <th>3</th>\n",
       "      <td>58ffbb506c34ffb731c99595589a4ebe</td>\n",
       "      <td>6</td>\n",
       "      <td>1</td>\n",
       "      <td>30.00</td>\n",
       "    </tr>\n",
       "    <tr>\n",
       "      <th>4</th>\n",
       "      <td>b4dcade04bc548b7e3b0243c801f8c26</td>\n",
       "      <td>6</td>\n",
       "      <td>1</td>\n",
       "      <td>99.00</td>\n",
       "    </tr>\n",
       "    <tr>\n",
       "      <th>...</th>\n",
       "      <td>...</td>\n",
       "      <td>...</td>\n",
       "      <td>...</td>\n",
       "      <td>...</td>\n",
       "    </tr>\n",
       "    <tr>\n",
       "      <th>95402</th>\n",
       "      <td>5f7e36fb1d42d0b1c408b5b41bc52bb3</td>\n",
       "      <td>700</td>\n",
       "      <td>1</td>\n",
       "      <td>128.90</td>\n",
       "    </tr>\n",
       "    <tr>\n",
       "      <th>95403</th>\n",
       "      <td>b8b8726af116a5cfb35b0315ecef9172</td>\n",
       "      <td>700</td>\n",
       "      <td>1</td>\n",
       "      <td>21.50</td>\n",
       "    </tr>\n",
       "    <tr>\n",
       "      <th>95404</th>\n",
       "      <td>7390ed59fa1febbfda31a80b4318c8cb</td>\n",
       "      <td>700</td>\n",
       "      <td>1</td>\n",
       "      <td>128.90</td>\n",
       "    </tr>\n",
       "    <tr>\n",
       "      <th>95405</th>\n",
       "      <td>14359ea0c7a105749c0a56478825b015</td>\n",
       "      <td>700</td>\n",
       "      <td>1</td>\n",
       "      <td>32.49</td>\n",
       "    </tr>\n",
       "    <tr>\n",
       "      <th>95406</th>\n",
       "      <td>830d5b7aaa3b6f1e9ad63703bec97d23</td>\n",
       "      <td>719</td>\n",
       "      <td>1</td>\n",
       "      <td>134.97</td>\n",
       "    </tr>\n",
       "  </tbody>\n",
       "</table>\n",
       "<p>95407 rows × 4 columns</p>\n",
       "</div>"
      ],
      "text/plain": [
       "                     customer_unique_id  Recency  Frequency  Monetary\n",
       "0      ff22e30958c13ffe219db7d711e8f564        1          2    290.00\n",
       "1      44d111bdc55faca551ef91cb74a444d8        6          1    249.90\n",
       "2      21dbe8eabd00b34492a939c540e2b1a7        6          1      6.90\n",
       "3      58ffbb506c34ffb731c99595589a4ebe        6          1     30.00\n",
       "4      b4dcade04bc548b7e3b0243c801f8c26        6          1     99.00\n",
       "...                                 ...      ...        ...       ...\n",
       "95402  5f7e36fb1d42d0b1c408b5b41bc52bb3      700          1    128.90\n",
       "95403  b8b8726af116a5cfb35b0315ecef9172      700          1     21.50\n",
       "95404  7390ed59fa1febbfda31a80b4318c8cb      700          1    128.90\n",
       "95405  14359ea0c7a105749c0a56478825b015      700          1     32.49\n",
       "95406  830d5b7aaa3b6f1e9ad63703bec97d23      719          1    134.97\n",
       "\n",
       "[95407 rows x 4 columns]"
      ]
     },
     "execution_count": 103,
     "metadata": {},
     "output_type": "execute_result"
    }
   ],
   "source": [
    "RFM = r_df \\\n",
    "    .merge(f_df, on=\"customer_unique_id\", how=\"left\") \\\n",
    "    .merge(m_df, on=\"customer_unique_id\", how=\"left\")\n",
    "\n",
    "RFM"
   ]
  },
  {
   "cell_type": "markdown",
   "metadata": {},
   "source": [
    "Квантили для выставления диапазона оценок для каждого пользователя по каждому критерию для RFM-анализа будем использовать диапазон оценок от 1 до 5.\n",
    "\n",
    "Это несколько усложнит работу с группами, но сделает анализ более чувствительным.\n",
    "\n",
    "Для этого делим всех клиентов на 5 равных групп по 20% пользоваталей в каждой."
   ]
  },
  {
   "cell_type": "markdown",
   "metadata": {},
   "source": [
    "Получаем квантили для каждого критерия"
   ]
  },
  {
   "cell_type": "code",
   "execution_count": 104,
   "metadata": {
    "tags": []
   },
   "outputs": [
    {
     "data": {
      "text/plain": [
       "{'Recency': {0.2: 98.0, 0.4: 182.0, 0.6: 273.0, 0.8: 389.0},\n",
       " 'Frequency': {0.2: 1.0, 0.4: 1.0, 0.6: 1.0, 0.8: 1.0},\n",
       " 'Monetary': {0.2: 39.9, 0.4: 69.9, 0.6: 109.9, 0.8: 179.9}}"
      ]
     },
     "execution_count": 104,
     "metadata": {},
     "output_type": "execute_result"
    }
   ],
   "source": [
    "quintiles = RFM[['Recency', 'Frequency', 'Monetary']].quantile([.2, .4, .6, .8]).to_dict()\n",
    "quintiles"
   ]
  },
  {
   "cell_type": "markdown",
   "metadata": {},
   "source": [
    "Затем я создаем функции для присвоения рангов от 1 до 5. \n",
    "\n",
    "Меньшее значение новизны (R) лучше, тогда как более высокие значения частоты (F) и денежного обращения (M) лучше. \n",
    "\n",
    "Т.е. нужно написать два функции метода."
   ]
  },
  {
   "cell_type": "code",
   "execution_count": 105,
   "metadata": {
    "tags": []
   },
   "outputs": [],
   "source": [
    "def r_score(x):\n",
    "    if x <= quintiles['Recency'][.2]:\n",
    "        return 5\n",
    "    elif x <= quintiles['Recency'][.4]:\n",
    "        return 4\n",
    "    elif x <= quintiles['Recency'][.6]:\n",
    "        return 3\n",
    "    elif x <= quintiles['Recency'][.8]:\n",
    "        return 2\n",
    "    else:\n",
    "        return 1\n",
    "\n",
    "def fm_score(x, c):\n",
    "    if x <= quintiles[c][.2]:\n",
    "        return 1\n",
    "    elif x <= quintiles[c][.4]:\n",
    "        return 2\n",
    "    elif x <= quintiles[c][.6]:\n",
    "        return 3\n",
    "    elif x <= quintiles[c][.8]:\n",
    "        return 4\n",
    "    else:\n",
    "        return 5"
   ]
  },
  {
   "cell_type": "markdown",
   "metadata": {},
   "source": [
    "Получаем оценки R, F и M каждого клиента"
   ]
  },
  {
   "cell_type": "code",
   "execution_count": 106,
   "metadata": {
    "tags": []
   },
   "outputs": [],
   "source": [
    "RFM['R'] = RFM['Recency'].apply(lambda x: r_score(x))\n",
    "RFM['F'] = RFM['Frequency'].apply(lambda x: fm_score(x, 'Frequency'))\n",
    "RFM['M'] = RFM['Monetary'].apply(lambda x: fm_score(x, 'Monetary'))"
   ]
  },
  {
   "cell_type": "markdown",
   "metadata": {},
   "source": [
    "Объединяем оценки R, F и M в один балл RFM Score."
   ]
  },
  {
   "cell_type": "code",
   "execution_count": 107,
   "metadata": {
    "tags": []
   },
   "outputs": [
    {
     "data": {
      "text/html": [
       "<div>\n",
       "<style scoped>\n",
       "    .dataframe tbody tr th:only-of-type {\n",
       "        vertical-align: middle;\n",
       "    }\n",
       "\n",
       "    .dataframe tbody tr th {\n",
       "        vertical-align: top;\n",
       "    }\n",
       "\n",
       "    .dataframe thead th {\n",
       "        text-align: right;\n",
       "    }\n",
       "</style>\n",
       "<table border=\"1\" class=\"dataframe\">\n",
       "  <thead>\n",
       "    <tr style=\"text-align: right;\">\n",
       "      <th></th>\n",
       "      <th>customer_unique_id</th>\n",
       "      <th>Recency</th>\n",
       "      <th>Frequency</th>\n",
       "      <th>Monetary</th>\n",
       "      <th>R</th>\n",
       "      <th>F</th>\n",
       "      <th>M</th>\n",
       "      <th>RFM Score</th>\n",
       "    </tr>\n",
       "  </thead>\n",
       "  <tbody>\n",
       "    <tr>\n",
       "      <th>0</th>\n",
       "      <td>ff22e30958c13ffe219db7d711e8f564</td>\n",
       "      <td>1</td>\n",
       "      <td>2</td>\n",
       "      <td>290.0</td>\n",
       "      <td>5</td>\n",
       "      <td>5</td>\n",
       "      <td>5</td>\n",
       "      <td>555</td>\n",
       "    </tr>\n",
       "    <tr>\n",
       "      <th>1</th>\n",
       "      <td>44d111bdc55faca551ef91cb74a444d8</td>\n",
       "      <td>6</td>\n",
       "      <td>1</td>\n",
       "      <td>249.9</td>\n",
       "      <td>5</td>\n",
       "      <td>1</td>\n",
       "      <td>5</td>\n",
       "      <td>515</td>\n",
       "    </tr>\n",
       "    <tr>\n",
       "      <th>2</th>\n",
       "      <td>21dbe8eabd00b34492a939c540e2b1a7</td>\n",
       "      <td>6</td>\n",
       "      <td>1</td>\n",
       "      <td>6.9</td>\n",
       "      <td>5</td>\n",
       "      <td>1</td>\n",
       "      <td>1</td>\n",
       "      <td>511</td>\n",
       "    </tr>\n",
       "    <tr>\n",
       "      <th>3</th>\n",
       "      <td>58ffbb506c34ffb731c99595589a4ebe</td>\n",
       "      <td>6</td>\n",
       "      <td>1</td>\n",
       "      <td>30.0</td>\n",
       "      <td>5</td>\n",
       "      <td>1</td>\n",
       "      <td>1</td>\n",
       "      <td>511</td>\n",
       "    </tr>\n",
       "    <tr>\n",
       "      <th>4</th>\n",
       "      <td>b4dcade04bc548b7e3b0243c801f8c26</td>\n",
       "      <td>6</td>\n",
       "      <td>1</td>\n",
       "      <td>99.0</td>\n",
       "      <td>5</td>\n",
       "      <td>1</td>\n",
       "      <td>3</td>\n",
       "      <td>513</td>\n",
       "    </tr>\n",
       "  </tbody>\n",
       "</table>\n",
       "</div>"
      ],
      "text/plain": [
       "                 customer_unique_id  Recency  Frequency  Monetary  R  F  M  \\\n",
       "0  ff22e30958c13ffe219db7d711e8f564        1          2     290.0  5  5  5   \n",
       "1  44d111bdc55faca551ef91cb74a444d8        6          1     249.9  5  1  5   \n",
       "2  21dbe8eabd00b34492a939c540e2b1a7        6          1       6.9  5  1  1   \n",
       "3  58ffbb506c34ffb731c99595589a4ebe        6          1      30.0  5  1  1   \n",
       "4  b4dcade04bc548b7e3b0243c801f8c26        6          1      99.0  5  1  3   \n",
       "\n",
       "  RFM Score  \n",
       "0       555  \n",
       "1       515  \n",
       "2       511  \n",
       "3       511  \n",
       "4       513  "
      ]
     },
     "execution_count": 107,
     "metadata": {},
     "output_type": "execute_result"
    }
   ],
   "source": [
    "RFM['RFM Score'] = RFM['R'].map(str) + RFM['F'].map(str) + RFM['M'].map(str)\n",
    "RFM.head()"
   ]
  },
  {
   "cell_type": "markdown",
   "metadata": {},
   "source": [
    "Для концентрации на наиболее важных сегментах выделим только 10 сегментов на основе оценок R и F. Вот описание сегментов:\n",
    "- **Чемпионы:**\tПокупали недавно, покупают часто и тратят больше всего\n",
    "- **Лояльные клиенты:**\tПокупают регулярно. Отзывчивые на рекламные акции.\n",
    "- **Потенциальные лоялисты:** недавние клиенты со средней частотой покупки.\n",
    "- **Новые клиенты:** Покупали недавно, но не часто.\n",
    "- **Многообещающие:** Покупали совсем недавно, но не потратили много.\n",
    "- **Клиенты, требующие внимания:**\tДавность, частота и денежная стоимость выше среднего. Хотя, возможно, купил не совсем недавно.\n",
    "- **Ложатся спать:** Давность и частота ниже среднего. Потеряем их, если не активировать покупки повторно.\n",
    "- **Рискованные:** Покупали часто, но давно. Надо попробовать вернуть их!\n",
    "- **Могут не вернуться:** Часто покупали, но давно не возвращалась.\n",
    "- **Спящие:**\tПоследняя покупка была давно и с небольшим количеством заказов. Могут быть потеряны."
   ]
  },
  {
   "cell_type": "markdown",
   "metadata": {},
   "source": [
    "Добавляем стоблец с описание сегментов через регулярные выражения"
   ]
  },
  {
   "cell_type": "code",
   "execution_count": 108,
   "metadata": {
    "tags": []
   },
   "outputs": [
    {
     "data": {
      "text/html": [
       "<div>\n",
       "<style scoped>\n",
       "    .dataframe tbody tr th:only-of-type {\n",
       "        vertical-align: middle;\n",
       "    }\n",
       "\n",
       "    .dataframe tbody tr th {\n",
       "        vertical-align: top;\n",
       "    }\n",
       "\n",
       "    .dataframe thead th {\n",
       "        text-align: right;\n",
       "    }\n",
       "</style>\n",
       "<table border=\"1\" class=\"dataframe\">\n",
       "  <thead>\n",
       "    <tr style=\"text-align: right;\">\n",
       "      <th></th>\n",
       "      <th>customer_unique_id</th>\n",
       "      <th>Recency</th>\n",
       "      <th>Frequency</th>\n",
       "      <th>Monetary</th>\n",
       "      <th>R</th>\n",
       "      <th>F</th>\n",
       "      <th>M</th>\n",
       "      <th>RFM Score</th>\n",
       "      <th>Segment</th>\n",
       "    </tr>\n",
       "  </thead>\n",
       "  <tbody>\n",
       "    <tr>\n",
       "      <th>0</th>\n",
       "      <td>ff22e30958c13ffe219db7d711e8f564</td>\n",
       "      <td>1</td>\n",
       "      <td>2</td>\n",
       "      <td>290.00</td>\n",
       "      <td>5</td>\n",
       "      <td>5</td>\n",
       "      <td>5</td>\n",
       "      <td>555</td>\n",
       "      <td>Чемпионы</td>\n",
       "    </tr>\n",
       "    <tr>\n",
       "      <th>1</th>\n",
       "      <td>44d111bdc55faca551ef91cb74a444d8</td>\n",
       "      <td>6</td>\n",
       "      <td>1</td>\n",
       "      <td>249.90</td>\n",
       "      <td>5</td>\n",
       "      <td>1</td>\n",
       "      <td>5</td>\n",
       "      <td>515</td>\n",
       "      <td>Новые клиенты</td>\n",
       "    </tr>\n",
       "    <tr>\n",
       "      <th>2</th>\n",
       "      <td>21dbe8eabd00b34492a939c540e2b1a7</td>\n",
       "      <td>6</td>\n",
       "      <td>1</td>\n",
       "      <td>6.90</td>\n",
       "      <td>5</td>\n",
       "      <td>1</td>\n",
       "      <td>1</td>\n",
       "      <td>511</td>\n",
       "      <td>Новые клиенты</td>\n",
       "    </tr>\n",
       "    <tr>\n",
       "      <th>3</th>\n",
       "      <td>58ffbb506c34ffb731c99595589a4ebe</td>\n",
       "      <td>6</td>\n",
       "      <td>1</td>\n",
       "      <td>30.00</td>\n",
       "      <td>5</td>\n",
       "      <td>1</td>\n",
       "      <td>1</td>\n",
       "      <td>511</td>\n",
       "      <td>Новые клиенты</td>\n",
       "    </tr>\n",
       "    <tr>\n",
       "      <th>4</th>\n",
       "      <td>b4dcade04bc548b7e3b0243c801f8c26</td>\n",
       "      <td>6</td>\n",
       "      <td>1</td>\n",
       "      <td>99.00</td>\n",
       "      <td>5</td>\n",
       "      <td>1</td>\n",
       "      <td>3</td>\n",
       "      <td>513</td>\n",
       "      <td>Новые клиенты</td>\n",
       "    </tr>\n",
       "    <tr>\n",
       "      <th>...</th>\n",
       "      <td>...</td>\n",
       "      <td>...</td>\n",
       "      <td>...</td>\n",
       "      <td>...</td>\n",
       "      <td>...</td>\n",
       "      <td>...</td>\n",
       "      <td>...</td>\n",
       "      <td>...</td>\n",
       "      <td>...</td>\n",
       "    </tr>\n",
       "    <tr>\n",
       "      <th>95402</th>\n",
       "      <td>5f7e36fb1d42d0b1c408b5b41bc52bb3</td>\n",
       "      <td>700</td>\n",
       "      <td>1</td>\n",
       "      <td>128.90</td>\n",
       "      <td>1</td>\n",
       "      <td>1</td>\n",
       "      <td>4</td>\n",
       "      <td>114</td>\n",
       "      <td>Спящие</td>\n",
       "    </tr>\n",
       "    <tr>\n",
       "      <th>95403</th>\n",
       "      <td>b8b8726af116a5cfb35b0315ecef9172</td>\n",
       "      <td>700</td>\n",
       "      <td>1</td>\n",
       "      <td>21.50</td>\n",
       "      <td>1</td>\n",
       "      <td>1</td>\n",
       "      <td>1</td>\n",
       "      <td>111</td>\n",
       "      <td>Спящие</td>\n",
       "    </tr>\n",
       "    <tr>\n",
       "      <th>95404</th>\n",
       "      <td>7390ed59fa1febbfda31a80b4318c8cb</td>\n",
       "      <td>700</td>\n",
       "      <td>1</td>\n",
       "      <td>128.90</td>\n",
       "      <td>1</td>\n",
       "      <td>1</td>\n",
       "      <td>4</td>\n",
       "      <td>114</td>\n",
       "      <td>Спящие</td>\n",
       "    </tr>\n",
       "    <tr>\n",
       "      <th>95405</th>\n",
       "      <td>14359ea0c7a105749c0a56478825b015</td>\n",
       "      <td>700</td>\n",
       "      <td>1</td>\n",
       "      <td>32.49</td>\n",
       "      <td>1</td>\n",
       "      <td>1</td>\n",
       "      <td>1</td>\n",
       "      <td>111</td>\n",
       "      <td>Спящие</td>\n",
       "    </tr>\n",
       "    <tr>\n",
       "      <th>95406</th>\n",
       "      <td>830d5b7aaa3b6f1e9ad63703bec97d23</td>\n",
       "      <td>719</td>\n",
       "      <td>1</td>\n",
       "      <td>134.97</td>\n",
       "      <td>1</td>\n",
       "      <td>1</td>\n",
       "      <td>4</td>\n",
       "      <td>114</td>\n",
       "      <td>Спящие</td>\n",
       "    </tr>\n",
       "  </tbody>\n",
       "</table>\n",
       "<p>95407 rows × 9 columns</p>\n",
       "</div>"
      ],
      "text/plain": [
       "                     customer_unique_id  Recency  Frequency  Monetary  R  F  \\\n",
       "0      ff22e30958c13ffe219db7d711e8f564        1          2    290.00  5  5   \n",
       "1      44d111bdc55faca551ef91cb74a444d8        6          1    249.90  5  1   \n",
       "2      21dbe8eabd00b34492a939c540e2b1a7        6          1      6.90  5  1   \n",
       "3      58ffbb506c34ffb731c99595589a4ebe        6          1     30.00  5  1   \n",
       "4      b4dcade04bc548b7e3b0243c801f8c26        6          1     99.00  5  1   \n",
       "...                                 ...      ...        ...       ... .. ..   \n",
       "95402  5f7e36fb1d42d0b1c408b5b41bc52bb3      700          1    128.90  1  1   \n",
       "95403  b8b8726af116a5cfb35b0315ecef9172      700          1     21.50  1  1   \n",
       "95404  7390ed59fa1febbfda31a80b4318c8cb      700          1    128.90  1  1   \n",
       "95405  14359ea0c7a105749c0a56478825b015      700          1     32.49  1  1   \n",
       "95406  830d5b7aaa3b6f1e9ad63703bec97d23      719          1    134.97  1  1   \n",
       "\n",
       "       M RFM Score        Segment  \n",
       "0      5       555       Чемпионы  \n",
       "1      5       515  Новые клиенты  \n",
       "2      1       511  Новые клиенты  \n",
       "3      1       511  Новые клиенты  \n",
       "4      3       513  Новые клиенты  \n",
       "...   ..       ...            ...  \n",
       "95402  4       114         Спящие  \n",
       "95403  1       111         Спящие  \n",
       "95404  4       114         Спящие  \n",
       "95405  1       111         Спящие  \n",
       "95406  4       114         Спящие  \n",
       "\n",
       "[95407 rows x 9 columns]"
      ]
     },
     "execution_count": 108,
     "metadata": {},
     "output_type": "execute_result"
    }
   ],
   "source": [
    "segt_map = {\n",
    "    r'[1-2][1-2]': 'Спящие', # Последняя покупка была давно и с небольшим количеством заказов. Могут быть потеряны.\n",
    "    r'[1-2][3-4]': 'Рискованные', # Покупали часто, но давно. Надо попробовать вернуть их!\n",
    "    r'[1-2]5': 'Могут не вернуться', # Часто покупали, но давно не возвращалась.\n",
    "    r'3[1-2]': 'Ложатся спать', # Давность и частота ниже среднего. Потеряем их, если не активировать покупки повторно.\n",
    "    r'33': 'Клиенты, требующие внимания', # Давность, частота и денежная стоимость выше среднего. Хотя, возможно, купил не совсем недавно.\n",
    "    r'[3-4][4-5]': 'Лояльные клиенты', # Покупают регулярно. Отзывчивые на рекламные акции.\n",
    "    r'41': 'Многообещающие', # Покупали совсем недавно, но не потратили много.\n",
    "    r'51': 'Новые клиенты', # Покупали недавно, но не часто.\n",
    "    r'[4-5][2-3]': 'Потенциальные лоялисты', # Покупают регулярно. Отзывчивые на рекламные акции.\n",
    "    r'5[4-5]': 'Чемпионы' # Покупали недавно, покупают часто и тратят больше всего\n",
    "}\n",
    "\n",
    "RFM['Segment'] = RFM['R'].map(str) + RFM['F'].map(str)\n",
    "RFM['Segment'] = RFM['Segment'].replace(segt_map, regex=True)\n",
    "RFM"
   ]
  },
  {
   "cell_type": "markdown",
   "metadata": {},
   "source": [
    "Делаем визуализации "
   ]
  },
  {
   "cell_type": "code",
   "execution_count": 109,
   "metadata": {
    "tags": []
   },
   "outputs": [
    {
     "data": {
      "text/html": [
       "<div>\n",
       "<style scoped>\n",
       "    .dataframe tbody tr th:only-of-type {\n",
       "        vertical-align: middle;\n",
       "    }\n",
       "\n",
       "    .dataframe tbody tr th {\n",
       "        vertical-align: top;\n",
       "    }\n",
       "\n",
       "    .dataframe thead th {\n",
       "        text-align: right;\n",
       "    }\n",
       "</style>\n",
       "<table border=\"1\" class=\"dataframe\">\n",
       "  <thead>\n",
       "    <tr style=\"text-align: right;\">\n",
       "      <th></th>\n",
       "      <th>RFM-сегмент</th>\n",
       "      <th>Клиентов в сегменте</th>\n",
       "      <th>Доля сегмента, %</th>\n",
       "      <th>Накопительный итог, %</th>\n",
       "    </tr>\n",
       "  </thead>\n",
       "  <tbody>\n",
       "    <tr>\n",
       "      <th>5</th>\n",
       "      <td>Спящие</td>\n",
       "      <td>36994</td>\n",
       "      <td>38.8</td>\n",
       "      <td>38.8</td>\n",
       "    </tr>\n",
       "    <tr>\n",
       "      <th>0</th>\n",
       "      <td>Ложатся спать</td>\n",
       "      <td>18538</td>\n",
       "      <td>19.4</td>\n",
       "      <td>58.2</td>\n",
       "    </tr>\n",
       "    <tr>\n",
       "      <th>4</th>\n",
       "      <td>Новые клиенты</td>\n",
       "      <td>18533</td>\n",
       "      <td>19.4</td>\n",
       "      <td>77.6</td>\n",
       "    </tr>\n",
       "    <tr>\n",
       "      <th>2</th>\n",
       "      <td>Многообещающие</td>\n",
       "      <td>18399</td>\n",
       "      <td>19.3</td>\n",
       "      <td>96.9</td>\n",
       "    </tr>\n",
       "    <tr>\n",
       "      <th>1</th>\n",
       "      <td>Лояльные клиенты</td>\n",
       "      <td>1244</td>\n",
       "      <td>1.3</td>\n",
       "      <td>98.2</td>\n",
       "    </tr>\n",
       "    <tr>\n",
       "      <th>3</th>\n",
       "      <td>Могут не вернуться</td>\n",
       "      <td>1043</td>\n",
       "      <td>1.1</td>\n",
       "      <td>99.3</td>\n",
       "    </tr>\n",
       "    <tr>\n",
       "      <th>6</th>\n",
       "      <td>Чемпионы</td>\n",
       "      <td>656</td>\n",
       "      <td>0.7</td>\n",
       "      <td>100.0</td>\n",
       "    </tr>\n",
       "  </tbody>\n",
       "</table>\n",
       "</div>"
      ],
      "text/plain": [
       "          RFM-сегмент  Клиентов в сегменте  Доля сегмента, %  \\\n",
       "5              Спящие                36994              38.8   \n",
       "0       Ложатся спать                18538              19.4   \n",
       "4       Новые клиенты                18533              19.4   \n",
       "2      Многообещающие                18399              19.3   \n",
       "1    Лояльные клиенты                 1244               1.3   \n",
       "3  Могут не вернуться                 1043               1.1   \n",
       "6            Чемпионы                  656               0.7   \n",
       "\n",
       "   Накопительный итог, %  \n",
       "5                   38.8  \n",
       "0                   58.2  \n",
       "4                   77.6  \n",
       "2                   96.9  \n",
       "1                   98.2  \n",
       "3                   99.3  \n",
       "6                  100.0  "
      ]
     },
     "execution_count": 109,
     "metadata": {},
     "output_type": "execute_result"
    }
   ],
   "source": [
    "RFM_Segment = RFM.groupby([\"Segment\"], as_index=False) \\\n",
    "    .customer_unique_id.count() \\\n",
    "    .sort_values(\"customer_unique_id\", ascending=False) \\\n",
    "    .rename(columns={\"customer_unique_id\" : \"Segment_size\"})\n",
    "\n",
    "RFM_Segment[\"Segment_share\"] = (RFM_Segment[\"Segment_size\"] / RFM[\"Segment\"].count()).mul(100).round(1)\n",
    "RFM_Segment[\"Segment_share_roll\"] = RFM_Segment[\"Segment_share\"].cumsum()\n",
    "\n",
    "RFM_Segment = RFM_Segment \\\n",
    "    .rename(columns={\"Segment\" : \"RFM-сегмент\",\n",
    "                                 \"Segment_size\" : \"Клиентов в сегменте\",\n",
    "                                 \"Segment_share\" : \"Доля сегмента, %\",\n",
    "                                 \"Segment_share_roll\" : \"Накопительный итог, %\"})\n",
    "\n",
    "RFM_Segment"
   ]
  },
  {
   "cell_type": "code",
   "execution_count": 110,
   "metadata": {
    "tags": []
   },
   "outputs": [
    {
     "data": {
      "image/png": "[encoded data removed]",
      "text/plain": [
       "<Figure size 1800x800 with 1 Axes>"
      ]
     },
     "metadata": {},
     "output_type": "display_data"
    }
   ],
   "source": [
    "ax = sns.barplot(data=RFM_Segment, y=\"RFM-сегмент\", x=\"Доля сегмента, %\")\n",
    "\n",
    "ax.bar_label(ax.containers[0], fontsize=15);\n",
    "ax.plot(4, 4, \"*\", markersize=30, color=\"r\")\n",
    "ax.plot(3, 6, \"*\", markersize=30, color=\"r\")\n",
    "ax.plot(3.5, 5, \"*\", markersize=30, color=\"r\")\n",
    "\n",
    "ax.set_xlabel('Доля сегмента от базы активных клиентов, %')\n",
    "ax.set_title('Около 60% клиентов совершали покупки давно, редко и на небольшие суммы\\n', fontsize=20)\n",
    "sns.despine()  # убрать часть рамки графика\n",
    "plt.show()"
   ]
  },
  {
   "cell_type": "markdown",
   "metadata": {},
   "source": [
    "## Ответ по задаче 6\n",
    "В ходе анализа не выявились три сегмента:\n",
    "- **Потенциальные лоялисты:** недавние клиенты со средней частотой покупки.\n",
    "- **Клиенты, требующие внимания:** Давность, частота и денежная стоимость выше среднего. Хотя, возможно, купил не совсем недавно.\n",
    "- **Рискованные:** Покупали часто, но давно. Надо попробовать вернуть их!\n",
    "\n",
    "Результаты для нашего интернет-магазина неутешительные:\n",
    "- практически 58.2% клиентов (Спящие и Ложатся спать) покупают давно, редко и на небольшие суммы. Вероятность их вернуть будет невелика\n",
    "- есть задел на 38,7% клиентов (Новые клиенты и Многообещающие): если уделить им внимание, то вероятно можно будет повысить их частоту покупки и повысить средний чек.\n",
    "- Крайне маленькая доля постоянных клиентов (Лояльные клиенты, Могут не вернуться, Чемпионы). Задача не потерять тех, кто есть в эимх группах и пополнять группы новыми пользователями."
   ]
  },
  {
   "cell_type": "code",
   "execution_count": null,
   "metadata": {},
   "outputs": [],
   "source": []
  },
  {
   "cell_type": "code",
   "execution_count": null,
   "metadata": {},
   "outputs": [],
   "source": []
  }
 ],
 "metadata": {
  "kernelspec": {
   "display_name": "Python 3 (ipykernel)",
   "language": "python",
   "name": "python3"
  },
  "language_info": {
   "codemirror_mode": {
    "name": "ipython",
    "version": 3
   },
   "file_extension": ".py",
   "mimetype": "text/x-python",
   "name": "python",
   "nbconvert_exporter": "python",
   "pygments_lexer": "ipython3",
   "version": "3.11.4"
  }
 },
 "nbformat": 4,
 "nbformat_minor": 4
}
